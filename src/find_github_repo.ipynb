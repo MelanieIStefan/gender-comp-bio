{
 "cells": [
  {
   "cell_type": "markdown",
   "metadata": {},
   "source": [
    "# find_github_repo\n",
    "\n",
    "## Goals\n",
    "\n",
    "- To extract the names of github repositories from Pubmed abstracts that mention github.\n",
    "- To use the github api to get author and contribution data about those repositories\n",
    "- To create a dataset linking the two\n",
    "\n",
    "The bit that reads in xml files and extracts article information to a data frame is from Kevin's xml_parsing script"
   ]
  },
  {
   "cell_type": "markdown",
   "metadata": {},
   "source": [
    "First, set working directory"
   ]
  },
  {
   "cell_type": "code",
   "execution_count": 1,
   "metadata": {
    "collapsed": false
   },
   "outputs": [
    {
     "data": {
      "text/plain": [
       "['github_pubs.xml', 'README.md']"
      ]
     },
     "execution_count": 1,
     "metadata": {},
     "output_type": "execute_result"
    }
   ],
   "source": [
    "import os\n",
    "os.chdir(\"../data/\")\n",
    "os.listdir(\"./\")"
   ]
  },
  {
   "cell_type": "markdown",
   "metadata": {},
   "source": [
    "Next, import libraries needed for xml parsing"
   ]
  },
  {
   "cell_type": "code",
   "execution_count": 2,
   "metadata": {
    "collapsed": true
   },
   "outputs": [],
   "source": [
    "import xml.etree.ElementTree as ET\n",
    "import datetime"
   ]
  },
  {
   "cell_type": "markdown",
   "metadata": {},
   "source": [
    "Create Article class definition"
   ]
  },
  {
   "cell_type": "code",
   "execution_count": 3,
   "metadata": {
    "collapsed": true
   },
   "outputs": [],
   "source": [
    "class Article(object):\n",
    "    \"\"\"Container for publication info\"\"\"\n",
    "    def __init__(self, pmid, pubdate, journal, title, abstract, authors):\n",
    "        self.pmid = pmid\n",
    "        self.pubdate = pubdate\n",
    "        self.journal = journal\n",
    "        self.title = title\n",
    "        self.abstract = abstract\n",
    "        self.authors = authors\n",
    "    def __repr__(self):\n",
    "        return \"<Article PMID: {}>\".format(self.pmid)\n",
    "\n",
    "    def get_authors(self):\n",
    "        for author in self.authors:\n",
    "            yield author[\"Last\"], author[\"First\"]"
   ]
  },
  {
   "cell_type": "markdown",
   "metadata": {},
   "source": [
    "Article generator function"
   ]
  },
  {
   "cell_type": "code",
   "execution_count": 4,
   "metadata": {
    "collapsed": true
   },
   "outputs": [],
   "source": [
    "def parse_pubmed_xml(xml_file):\n",
    "    xml_handle = ET.parse(xml_file)\n",
    "    root = xml_handle.getroot()\n",
    "\n",
    "    for Citation in root.iter(\"MedlineCitation\"):\n",
    "        pmid = Citation[0].text\n",
    "        pubdate = datetime.date(\n",
    "            int(Citation[1][0].text),  # year\n",
    "            int(Citation[1][1].text),  # month\n",
    "            int(Citation[1][2].text)  # day\n",
    "            )\n",
    "        \n",
    "        Journal = next(Citation.iter(\"Journal\"))\n",
    "\n",
    "        journal_title = Journal.find(\"ISOAbbreviation\").text\n",
    "        article_title = next(Citation.iter(\"ArticleTitle\")).text\n",
    "        \n",
    "        abstract = next(Citation.iter(\"AbstractText\")).text\n",
    "        try:\n",
    "            authors = [{\n",
    "                \"Last\": Author.find(\"LastName\").text,\n",
    "                \"First\": Author.find(\"ForeName\").text\n",
    "                   } for Author in Citation.iter(\"Author\")]\n",
    "        except:\n",
    "           continue\n",
    "        \n",
    "        yield Article(pmid, pubdate, journal_title, article_title, abstract, authors)"
   ]
  },
  {
   "cell_type": "markdown",
   "metadata": {},
   "source": [
    "Make data frame (this differs a bit from Kevin's code by including abstract also)"
   ]
  },
  {
   "cell_type": "code",
   "execution_count": 6,
   "metadata": {
    "collapsed": false
   },
   "outputs": [
    {
     "name": "stdout",
     "output_type": "stream",
     "text": [
      "                                                   Abstract  \\\n",
      "26357045  Stability and sensitivity analyses of biologic...   \n",
      "25601296  Most electronic data capture (EDC) and electro...   \n",
      "25558360  Remotely sensed data - available at medium to ...   \n",
      "25553811  Whole-genome bisulfite sequencing (WGBS) is an...   \n",
      "25549775  A number of computational approaches have been...   \n",
      "25543048  Sampling the conformational space of biologica...   \n",
      "25540185  With rapidly increasing volumes of biological ...   \n",
      "25527832  Current strategies for SNP and INDEL discovery...   \n",
      "25526884  An absent word of a word y of length n is a wo...   \n",
      "25524895  VarSim is a framework for assessing alignment ...   \n",
      "25521965  Thyroid cancer is the most common endocrine tu...   \n",
      "25520192  RNA performs a diverse array of important func...   \n",
      "25514851  We describe an open-source kPAL package that f...   \n",
      "25505094  Circular permutation is an important type of p...   \n",
      "25505087  In bioinformatic applications, computationally...   \n",
      "25505086  All current mitochondrial haplogroup classific...   \n",
      "25504847  A standard approach to classifying sets of gen...   \n",
      "25481009  ICMA, a software framework to create 3D finite...   \n",
      "25481007  Kablammo is a web-based application that produ...   \n",
      "25480375  Expression quantitative trait loci (eQTL) stud...   \n",
      "25474353  Phylogenetic analyses which include fossils or...   \n",
      "25461763  Since the read lengths of high throughput sequ...   \n",
      "25452688  Mobile elements constitute greater than 45% of...   \n",
      "25435543  Isobaric labeling techniques coupled with high...   \n",
      "25431162  Post-translational modifications (PTMs) consti...   \n",
      "25428347  Genetic screens of an unprecedented scale have...   \n",
      "25422674  Rapid molecular typing of bacterial pathogens ...   \n",
      "25414364  Protein sequence and structure representation ...   \n",
      "25414349  The emergence of new sequencing technologies h...   \n",
      "25410596  Whole-genome sequences are now available for m...   \n",
      "...                                                     ...   \n",
      "22238257  CHROMATRA (CHROmatin Mapping Across TRAnscript...   \n",
      "22235263  Although complex diseases and traits are thoug...   \n",
      "22215819  Probabilistic logic programming offers a power...   \n",
      "25328913  Scientists are continually faced with the need...   \n",
      "22151646  Many metazoan genomes conserve chromosome-scal...   \n",
      "22080292  Digital Imaging and Communications in Medicine...   \n",
      "22017798  Genome-wide mapping of protein-DNA interaction...   \n",
      "21994228  Recent technological progress has greatly faci...   \n",
      "21911333  SPREAD is a user-friendly, cross-platform appl...   \n",
      "21899774  In bioinformatics projects, scientific workflo...   \n",
      "21824426  Temporal analysis of gene expression data has ...   \n",
      "21724594  MethylCoder is a software program that generat...   \n",
      "21685055  We report CRdata.org, a cloud-based, free, ope...   \n",
      "21685051  Methyl-Analyzer is a python package that analy...   \n",
      "21635747  The possibilities offered by next generation s...   \n",
      "21595876  Recovery of ribosomal small subunit genes by a...   \n",
      "21529350  The availability of bioinformatics web-based s...   \n",
      "21501495  It is difficult to accurately interpret chromo...   \n",
      "21493652  Analysis of genomic sequencing data requires e...   \n",
      "21478170  Bacterial Rho-independent terminators (RITs) a...   \n",
      "21357752  With the availability of genome-wide transcrip...   \n",
      "21296748  Gobe is a web-based tool for viewing comparati...   \n",
      "21169373  The Sample avAILability system-SAIL-is a web b...   \n",
      "21124986  Identifying transcription factor (TF) binding ...   \n",
      "20935049  The Sol Genomics Network (SGN; http://solgenom...   \n",
      "20798169  JCVI Metagenomics Reports (METAREP) is a Web 2...   \n",
      "20562450  Bridges is a heuristic search tool that uses s...   \n",
      "20529912  High-throughput data is providing a comprehens...   \n",
      "20421198  DendroPy is a cross-platform library for the P...   \n",
      "20106815  Short sequence motifs are an important class o...   \n",
      "\n",
      "                                                    Authors        Date  \\\n",
      "26357045  [(Shiraishi, Fumihide), (Yoshida, Erika), (Voi...  2015-09-11   \n",
      "25601296         [(Dixit, Abhishek), (Dobson, Richard J B)]  2015-01-20   \n",
      "25558360  [(Tuck, Sean L), (Phillips, Helen Rp), (Hintze...  2015-01-05   \n",
      "25553811  [(Chen, Junfang), (Lutsik, Pavlo), (Akulenko, ...  2015-01-02   \n",
      "25549775  [(Manini, Simone), (Antiga, Luca), (Botti, Lor...  2015-06-09   \n",
      "25543048  [(Bouvier, Guillaume), (Desdouits, Nathan), (F...  2015-04-28   \n",
      "25540185                                [(Meinicke, Peter)]  2015-04-28   \n",
      "25527832  [(Lindberg, Michael R), (Hall, Ira M), (Quinla...  2015-04-12   \n",
      "25526884  [(Barton, Carl), (Heliou, Alice), (Mouchard, L...  2015-04-27   \n",
      "25524895  [(Mu, John C), (Mohiyuddin, Marghoob), (Li, Ji...  2015-04-28   \n",
      "25521965  [(Wu, Chengkun), (Schwartz, Jean-Marc), (Braba...  2014-12-19   \n",
      "25520192               [(Gardner, Paul P), (Eldai, Hisham)]  2015-01-24   \n",
      "25514851  [(Anvar, Seyed Yahya), (Khachatryan, Lusine), ...  2015-02-06   \n",
      "25505094  [(Bliven, Spencer E), (Bourne, Philip E), (Prl...  2015-04-12   \n",
      "25505087  [(Völkel, Gunnar), (Lausser, Ludwig), (Schmid,...  2015-04-12   \n",
      "25505086  [(Navarro-Gomez, Daniel), (Leipzig, Jeremy), (...  2015-04-12   \n",
      "25504847  [(Haubold, Bernhard), (Klötzl, Fabian), (Pfaff...  2015-04-12   \n",
      "25481009  [(Hussan, Jagir R), (Hunter, Peter J), (Gladdi...  2015-04-12   \n",
      "25481007       [(Wintersinger, Jeff A), (Wasmuth, James D)]  2015-04-12   \n",
      "25480375  [(Harvey, Chris T), (Moyerbrailean, Gregory A)...  2015-04-12   \n",
      "25474353  [(Gavryushkina, Alexandra), (Welch, David), (S...  2014-12-05   \n",
      "25461763  [(Zhu, Xiao), (Leung, Henry C M), (Chin, Franc...  2014-12-03   \n",
      "25452688  [(Lee, Wan-Ping), (Wu, Jiantao), (Marth, Gabor...  2014-12-02   \n",
      "25435543  [(Sheng, Quanhu), (Li, Rongxia), (Dai, Jie), (...  2015-01-31   \n",
      "25431162  [(Warnecke, Andreas), (Sandalova, Tatyana), (A...  2015-04-27   \n",
      "25428347  [(Diaz, Aaron A), (Qin, Han), (Ramalho-Santos,...  2015-02-18   \n",
      "25422674  [(Inouye, Michael), (Dashnow, Harriet), (Raven...  2014-11-25   \n",
      "25414364  [(Hirsh, Layla), (Piovesan, Damiano), (Giollo,...  2015-04-03   \n",
      "25414349  [(Croucher, Nicholas J), (Page, Andrew J), (Co...  2015-02-18   \n",
      "25410596  [(Treangen, Todd J), (Ondov, Brian D), (Koren,...  2015-01-07   \n",
      "...                                                     ...         ...   \n",
      "22238257  [(Hentrich, Thomas), (Schulze, Julia M), (Embe...  2012-03-01   \n",
      "22235263  [(Peltola, Tomi), (Marttinen, Pekka), (Jula, A...  2012-01-11   \n",
      "22215819                     [(Mørk, Søren), (Holmes, Ian)]  2012-03-01   \n",
      "25328913  [(Fenwick, Matthew), (Sesanker, Colbert), (Sch...  2014-10-20   \n",
      "22151646  [(Lv, Jie), (Havlak, Paul), (Putnam, Nicholas H)]  2011-12-13   \n",
      "22080292                                [(Langer, Steve G)]  2012-03-07   \n",
      "22017798  [(Pinello, Luca), (Lo Bosco, Giosuè), (Hanlon,...  2012-01-06   \n",
      "21994228  [(Riba-Grognuz, Oksana), (Keller, Laurent), (F...  2011-12-13   \n",
      "21911333  [(Bielejec, Filip), (Rambaut, Andrew), (Suchar...  2011-10-06   \n",
      "21899774  [(Mishima, Hiroyuki), (Sasaki, Kensaku), (Tana...  2011-09-29   \n",
      "21824426  [(Jethava, Vinay), (Bhattacharyya, Chiranjib),...  2011-09-12   \n",
      "21724594  [(Pedersen, Brent), (Hsieh, Tzung-Fu), (Ibarra...  2011-08-19   \n",
      "21685055  [(Bolouri, Hamid), (Dulepet, Rajiv), (Angerman...  2011-08-05   \n",
      "21685051  [(Xin, Yurong), (Ge, Yongchao), (Haghighi, Fat...  2011-08-05   \n",
      "21635747  [(Blanca, Jose M), (Pascual, Laura), (Ziarsolo...  2011-06-28   \n",
      "21595876  [(Miller, Christopher S), (Baker, Brett J), (T...  2011-10-20   \n",
      "21529350  [(Oshita, Kazuki), (Arakawa, Kazuharu), (Tomit...  2011-05-26   \n",
      "21501495  [(Tang, Haibao), (Lyons, Eric), (Pedersen, Bre...  2011-05-09   \n",
      "21493652  [(Barnett, Derek W), (Garrison, Erik K), (Quin...  2011-06-03   \n",
      "21478170  [(Gardner, Paul P), (Barquist, Lars), (Bateman...  2011-08-09   \n",
      "21357752  [(Washietl, Stefan), (Findeiss, Sven), (Müller...  2011-03-22   \n",
      "21296748  [(Pedersen, Brent S), (Tang, Haibao), (Freelin...  2011-03-30   \n",
      "21169373  [(Gostev, Mikhail), (Fernandez-Banet, Julio), ...  2011-02-10   \n",
      "21124986  [(Miller, Andrew K), (Print, Cristin G), (Niel...  2010-12-02   \n",
      "20935049  [(Bombarely, Aureliano), (Menda, Naama), (Tecl...  2010-12-23   \n",
      "20798169  [(Goll, Johannes), (Rusch, Douglas B), (Tanenb...  2010-10-08   \n",
      "20562450          [(Kondrashov, Alexey S), (Assis, Raquel)]  2010-08-06   \n",
      "20529912  [(Vaske, Charles J), (Benz, Stephen C), (Sanbo...  2010-06-09   \n",
      "20421198              [(Sukumaran, Jeet), (Holder, Mark T)]  2010-06-09   \n",
      "20106815  [(Piipari, Matias), (Down, Thomas A), (Saini, ...  2010-03-08   \n",
      "\n",
      "                                       Journal  \n",
      "26357045  IEEE/ACM Trans Comput Biol Bioinform  \n",
      "25601296                       JMIR Med Inform  \n",
      "25558360                             Ecol Evol  \n",
      "25553811               J Bioinform Comput Biol  \n",
      "25549775                        Ann Biomed Eng  \n",
      "25543048                        Bioinformatics  \n",
      "25540185                        Bioinformatics  \n",
      "25527832                        Bioinformatics  \n",
      "25526884                    BMC Bioinformatics  \n",
      "25524895                        Bioinformatics  \n",
      "25521965                      BMC Med Genomics  \n",
      "25520192                    Nucleic Acids Res.  \n",
      "25514851                          Genome Biol.  \n",
      "25505094                        Bioinformatics  \n",
      "25505087                        Bioinformatics  \n",
      "25505086                        Bioinformatics  \n",
      "25504847                        Bioinformatics  \n",
      "25481009                        Bioinformatics  \n",
      "25481007                        Bioinformatics  \n",
      "25480375                        Bioinformatics  \n",
      "25474353                    PLoS Comput. Biol.  \n",
      "25461763                              PLoS ONE  \n",
      "25452688                         Cancer Inform  \n",
      "25435543                  Mol. Cell Proteomics  \n",
      "25431162                    BMC Bioinformatics  \n",
      "25428347                    Nucleic Acids Res.  \n",
      "25422674                            Genome Med  \n",
      "25414364                        Bioinformatics  \n",
      "25414349                    Nucleic Acids Res.  \n",
      "25410596                          Genome Biol.  \n",
      "...                                        ...  \n",
      "22238257                        Bioinformatics  \n",
      "22235263                              PLoS ONE  \n",
      "22215819                        Bioinformatics  \n",
      "25328913   Proc Int Conf Inf Technol New Gener  \n",
      "22151646                    BMC Bioinformatics  \n",
      "22080292                       J Digit Imaging  \n",
      "22017798                    BMC Bioinformatics  \n",
      "21994228                        Bioinformatics  \n",
      "21911333                        Bioinformatics  \n",
      "21899774                         BMC Res Notes  \n",
      "21824426                    BMC Bioinformatics  \n",
      "21724594                        Bioinformatics  \n",
      "21685055                        Bioinformatics  \n",
      "21685051                        Bioinformatics  \n",
      "21635747                          BMC Genomics  \n",
      "21595876                          Genome Biol.  \n",
      "21529350                  Source Code Biol Med  \n",
      "21501495                    BMC Bioinformatics  \n",
      "21493652                        Bioinformatics  \n",
      "21478170                    Nucleic Acids Res.  \n",
      "21357752                                   RNA  \n",
      "21296748                        Bioinformatics  \n",
      "21169373                        Bioinformatics  \n",
      "21124986                              PLoS ONE  \n",
      "20935049                    Nucleic Acids Res.  \n",
      "20798169                        Bioinformatics  \n",
      "20562450                        Bioinformatics  \n",
      "20529912                        Bioinformatics  \n",
      "20421198                        Bioinformatics  \n",
      "20106815                        Bioinformatics  \n",
      "\n",
      "[402 rows x 4 columns]\n"
     ]
    }
   ],
   "source": [
    "import pandas as pd\n",
    "df = pd.DataFrame()\n",
    "col_names = [\"Date\", \"Journal\", \"Authors\",\"Abstract\"]\n",
    "\n",
    "for article in parse_pubmed_xml('github_pubs.xml'):\n",
    "    row = pd.Series([article.pubdate, article.journal, [(author[0], author[1]) for author in article.get_authors()],\n",
    "                     article.abstract],name=article.pmid, index=col_names)\n",
    "    df = df.append(row)\n",
    "\n",
    "print(df)"
   ]
  }
 ],
 "metadata": {
  "kernelspec": {
   "display_name": "Python 2",
   "language": "python",
   "name": "python2"
  },
  "language_info": {
   "codemirror_mode": {
    "name": "ipython",
    "version": 2
   },
   "file_extension": ".py",
   "mimetype": "text/x-python",
   "name": "python",
   "nbconvert_exporter": "python",
   "pygments_lexer": "ipython2",
   "version": "2.7.10"
  }
 },
 "nbformat": 4,
 "nbformat_minor": 0
}
