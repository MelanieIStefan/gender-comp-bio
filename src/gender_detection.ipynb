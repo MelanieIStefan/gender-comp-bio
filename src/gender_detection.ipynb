{
 "cells": [
  {
   "cell_type": "code",
   "execution_count": 1,
   "metadata": {
    "collapsed": false
   },
   "outputs": [
    {
     "data": {
      "text/plain": [
       "['.DS_Store',\n",
       " 'all_bio_pubs.csv',\n",
       " 'all_names.txt',\n",
       " 'author_list.csv',\n",
       " 'biology-1997-2014.xml',\n",
       " 'comp-bio-1997-2014.xml',\n",
       " 'compbio_pubs.csv',\n",
       " 'compbio_pubs2.csv',\n",
       " 'gender_dict.txt',\n",
       " 'github_pubs.csv',\n",
       " 'github_pubs.xml',\n",
       " 'README.md',\n",
       " 'scratch.py',\n",
       " 'test_1.xml',\n",
       " 'test_2.xml',\n",
       " 'test_3.xml']"
      ]
     },
     "execution_count": 1,
     "metadata": {},
     "output_type": "execute_result"
    }
   ],
   "source": [
    "import os\n",
    "os.chdir(\"../data/\")\n",
    "os.listdir(\"./\")"
   ]
  },
  {
   "cell_type": "code",
   "execution_count": 2,
   "metadata": {
    "collapsed": false
   },
   "outputs": [
    {
     "name": "stdout",
     "output_type": "stream",
     "text": [
      "74702\n"
     ]
    }
   ],
   "source": [
    "fixed_names = []\n",
    "with open('all_names.txt', 'r') as names_file:\n",
    "    names = names_file.read().split(\",\")\n",
    "    \n",
    "    for name in names:\n",
    "        if name:\n",
    "            if len(name) > 1:\n",
    "                fixed_names.append(name.lower())\n",
    "fixed_names.sort()\n",
    "print(len(fixed_names))"
   ]
  },
  {
   "cell_type": "code",
   "execution_count": 3,
   "metadata": {
    "collapsed": false
   },
   "outputs": [
    {
     "name": "stdout",
     "output_type": "stream",
     "text": [
      "male\n",
      "female\n",
      "unknown\n"
     ]
    }
   ],
   "source": [
    "from gender_detector import GenderDetector\n",
    "detector = GenderDetector('us')\n",
    "print(detector.guess(\"kevin\"))\n",
    "print(detector.guess(\"melanie\"))\n",
    "print(detector.guess(\"ajasja\"))"
   ]
  },
  {
   "cell_type": "code",
   "execution_count": null,
   "metadata": {
    "collapsed": false
   },
   "outputs": [],
   "source": [
    "gender_dict = {}\n",
    "counter = 0\n",
    "for name in fixed_names:\n",
    "    counter += 1\n",
    "    if counter%1000 == 0:\n",
    "        print counter\n",
    "    try:\n",
    "        gender = detector.guess(name)\n",
    "        gender_dict[name] = gender\n",
    "    except:\n",
    "        print(name)\n",
    "        "
   ]
  },
  {
   "cell_type": "code",
   "execution_count": null,
   "metadata": {
    "collapsed": false
   },
   "outputs": [],
   "source": [
    "print(len(gender_dict))"
   ]
  },
  {
   "cell_type": "code",
   "execution_count": null,
   "metadata": {
    "collapsed": false
   },
   "outputs": [],
   "source": [
    "print(sum([1 for x in gender_dict if gender_dict[x] == 'unknown']))\n",
    "print(sum([1 for x in gender_dict if gender_dict[x] != 'unknown']))"
   ]
  },
  {
   "cell_type": "markdown",
   "metadata": {},
   "source": [
    "### Output datasets"
   ]
  },
  {
   "cell_type": "code",
   "execution_count": null,
   "metadata": {
    "collapsed": true
   },
   "outputs": [],
   "source": [
    "with open('gender_dict.txt', 'w+') as out_file:\n",
    "    for key in gender_dict:\n",
    "        out_file.write('{}:{},'.format(key, gender_dict[key]))"
   ]
  },
  {
   "cell_type": "markdown",
   "metadata": {},
   "source": [
    "Aaaaand... [back to python 3](/src/xml_parsing.ipynb#Getting-Genders---Stats)"
   ]
  },
  {
   "cell_type": "code",
   "execution_count": null,
   "metadata": {
    "collapsed": true
   },
   "outputs": [],
   "source": []
  }
 ],
 "metadata": {
  "kernelspec": {
   "display_name": "Python 2",
   "language": "python",
   "name": "python2"
  },
  "language_info": {
   "codemirror_mode": {
    "name": "ipython",
    "version": 2
   },
   "file_extension": ".py",
   "mimetype": "text/x-python",
   "name": "python",
   "nbconvert_exporter": "python",
   "pygments_lexer": "ipython2",
   "version": "2.7.11"
  }
 },
 "nbformat": 4,
 "nbformat_minor": 0
}
