{
 "cells": [
  {
   "cell_type": "markdown",
   "metadata": {},
   "source": [
    "# find_github_repo\n",
    "\n",
    "## Goals\n",
    "\n",
    "- To extract the names of github repositories from Pubmed abstracts that mention github.\n",
    "- To use the github api to get author and contribution data about those repositories\n",
    "- To create a dataset linking the two\n",
    "\n",
    "The bit that reads in xml files and extracts article information to a data frame is from Kevin's xml_parsing script"
   ]
  },
  {
   "cell_type": "markdown",
   "metadata": {},
   "source": [
    "First, set working directory"
   ]
  },
  {
   "cell_type": "code",
   "execution_count": 71,
   "metadata": {
    "collapsed": false
   },
   "outputs": [
    {
     "data": {
      "text/plain": [
       "['github_pubs.xml', 'README.md']"
      ]
     },
     "execution_count": 71,
     "metadata": {},
     "output_type": "execute_result"
    }
   ],
   "source": [
    "import os\n",
    "os.chdir(\"../data/\")\n",
    "os.listdir(\"./\")"
   ]
  },
  {
   "cell_type": "markdown",
   "metadata": {},
   "source": [
    "Next, import libraries needed for xml parsing"
   ]
  },
  {
   "cell_type": "code",
   "execution_count": 72,
   "metadata": {
    "collapsed": true
   },
   "outputs": [],
   "source": [
    "import xml.etree.ElementTree as ET\n",
    "import datetime"
   ]
  },
  {
   "cell_type": "markdown",
   "metadata": {},
   "source": [
    "Create Article class definition"
   ]
  },
  {
   "cell_type": "code",
   "execution_count": 73,
   "metadata": {
    "collapsed": true
   },
   "outputs": [],
   "source": [
    "class Article(object):\n",
    "    \"\"\"Container for publication info\"\"\"\n",
    "    def __init__(self, pmid, pubdate, journal, title, abstract, authors):\n",
    "        self.pmid = pmid\n",
    "        self.pubdate = pubdate\n",
    "        self.journal = journal\n",
    "        self.title = title\n",
    "        self.abstract = abstract\n",
    "        self.authors = authors\n",
    "    def __repr__(self):\n",
    "        return \"<Article PMID: {}>\".format(self.pmid)\n",
    "\n",
    "    def get_authors(self):\n",
    "        for author in self.authors:\n",
    "            yield author[\"Last\"], author[\"First\"]"
   ]
  },
  {
   "cell_type": "markdown",
   "metadata": {},
   "source": [
    "Article generator function"
   ]
  },
  {
   "cell_type": "code",
   "execution_count": 74,
   "metadata": {
    "collapsed": true
   },
   "outputs": [],
   "source": [
    "def parse_pubmed_xml(xml_file):\n",
    "    xml_handle = ET.parse(xml_file)\n",
    "    root = xml_handle.getroot()\n",
    "\n",
    "    for Citation in root.iter(\"MedlineCitation\"):\n",
    "        pmid = Citation[0].text\n",
    "        pubdate = datetime.date(\n",
    "            int(Citation[1][0].text),  # year\n",
    "            int(Citation[1][1].text),  # month\n",
    "            int(Citation[1][2].text)  # day\n",
    "            )\n",
    "        \n",
    "        Journal = next(Citation.iter(\"Journal\"))\n",
    "\n",
    "        journal_title = Journal.find(\"ISOAbbreviation\").text\n",
    "        article_title = next(Citation.iter(\"ArticleTitle\")).text\n",
    "        \n",
    "        abstract = next(Citation.iter(\"AbstractText\")).text\n",
    "        try:\n",
    "            authors = [{\n",
    "                \"Last\": Author.find(\"LastName\").text,\n",
    "                \"First\": Author.find(\"ForeName\").text\n",
    "                   } for Author in Citation.iter(\"Author\")]\n",
    "        except:\n",
    "           continue\n",
    "        \n",
    "        yield Article(pmid, pubdate, journal_title, article_title, abstract, authors)"
   ]
  },
  {
   "cell_type": "markdown",
   "metadata": {},
   "source": [
    "Make data frame (this differs a bit from Kevin's code by including abstract and url field) "
   ]
  },
  {
   "cell_type": "code",
   "execution_count": 75,
   "metadata": {
    "collapsed": false,
    "scrolled": true
   },
   "outputs": [
    {
     "data": {
      "text/html": [
       "<div>\n",
       "<table border=\"1\" class=\"dataframe\">\n",
       "  <thead>\n",
       "    <tr style=\"text-align: right;\">\n",
       "      <th></th>\n",
       "      <th>Abstract</th>\n",
       "      <th>Authors</th>\n",
       "      <th>Date</th>\n",
       "      <th>Github</th>\n",
       "      <th>Journal</th>\n",
       "      <th>Url</th>\n",
       "    </tr>\n",
       "  </thead>\n",
       "  <tbody>\n",
       "    <tr>\n",
       "      <th>26357045</th>\n",
       "      <td>Stability and sensitivity analyses of biologic...</td>\n",
       "      <td>[(Shiraishi, Fumihide), (Yoshida, Erika), (Voi...</td>\n",
       "      <td>2015-09-11</td>\n",
       "      <td></td>\n",
       "      <td>IEEE/ACM Trans Comput Biol Bioinform</td>\n",
       "      <td></td>\n",
       "    </tr>\n",
       "    <tr>\n",
       "      <th>25601296</th>\n",
       "      <td>Most electronic data capture (EDC) and electro...</td>\n",
       "      <td>[(Dixit, Abhishek), (Dobson, Richard J B)]</td>\n",
       "      <td>2015-01-20</td>\n",
       "      <td></td>\n",
       "      <td>JMIR Med Inform</td>\n",
       "      <td></td>\n",
       "    </tr>\n",
       "    <tr>\n",
       "      <th>25558360</th>\n",
       "      <td>Remotely sensed data - available at medium to ...</td>\n",
       "      <td>[(Tuck, Sean L), (Phillips, Helen Rp), (Hintze...</td>\n",
       "      <td>2015-01-05</td>\n",
       "      <td></td>\n",
       "      <td>Ecol Evol</td>\n",
       "      <td></td>\n",
       "    </tr>\n",
       "    <tr>\n",
       "      <th>25553811</th>\n",
       "      <td>Whole-genome bisulfite sequencing (WGBS) is an...</td>\n",
       "      <td>[(Chen, Junfang), (Lutsik, Pavlo), (Akulenko, ...</td>\n",
       "      <td>2015-01-02</td>\n",
       "      <td></td>\n",
       "      <td>J Bioinform Comput Biol</td>\n",
       "      <td></td>\n",
       "    </tr>\n",
       "    <tr>\n",
       "      <th>25549775</th>\n",
       "      <td>A number of computational approaches have been...</td>\n",
       "      <td>[(Manini, Simone), (Antiga, Luca), (Botti, Lor...</td>\n",
       "      <td>2015-06-09</td>\n",
       "      <td></td>\n",
       "      <td>Ann Biomed Eng</td>\n",
       "      <td></td>\n",
       "    </tr>\n",
       "  </tbody>\n",
       "</table>\n",
       "</div>"
      ],
      "text/plain": [
       "                                                   Abstract  \\\n",
       "26357045  Stability and sensitivity analyses of biologic...   \n",
       "25601296  Most electronic data capture (EDC) and electro...   \n",
       "25558360  Remotely sensed data - available at medium to ...   \n",
       "25553811  Whole-genome bisulfite sequencing (WGBS) is an...   \n",
       "25549775  A number of computational approaches have been...   \n",
       "\n",
       "                                                    Authors        Date  \\\n",
       "26357045  [(Shiraishi, Fumihide), (Yoshida, Erika), (Voi...  2015-09-11   \n",
       "25601296         [(Dixit, Abhishek), (Dobson, Richard J B)]  2015-01-20   \n",
       "25558360  [(Tuck, Sean L), (Phillips, Helen Rp), (Hintze...  2015-01-05   \n",
       "25553811  [(Chen, Junfang), (Lutsik, Pavlo), (Akulenko, ...  2015-01-02   \n",
       "25549775  [(Manini, Simone), (Antiga, Luca), (Botti, Lor...  2015-06-09   \n",
       "\n",
       "         Github                               Journal Url  \n",
       "26357045         IEEE/ACM Trans Comput Biol Bioinform      \n",
       "25601296                              JMIR Med Inform      \n",
       "25558360                                    Ecol Evol      \n",
       "25553811                      J Bioinform Comput Biol      \n",
       "25549775                               Ann Biomed Eng      "
      ]
     },
     "execution_count": 75,
     "metadata": {},
     "output_type": "execute_result"
    }
   ],
   "source": [
    "import pandas as pd\n",
    "df = pd.DataFrame()\n",
    "col_names = [\"Date\", \"Journal\", \"Authors\",\"Abstract\",\"Url\",\"Github\"]\n",
    "\n",
    "for article in parse_pubmed_xml('github_pubs.xml'):\n",
    "    row = pd.Series([article.pubdate, article.journal, [(author[0], author[1]) for author in article.get_authors()],\n",
    "                     article.abstract, '', ''],name=article.pmid, index=col_names)\n",
    "    df = df.append(row)\n",
    "\n",
    "df.head()"
   ]
  },
  {
   "cell_type": "markdown",
   "metadata": {
    "collapsed": true
   },
   "source": [
    "Check the content of the first abstract"
   ]
  },
  {
   "cell_type": "code",
   "execution_count": 76,
   "metadata": {
    "collapsed": false
   },
   "outputs": [
    {
     "data": {
      "text/plain": [
       "'Stability and sensitivity analyses of biological systems require the ad hocwriting of computer code, which is highly dependent on the particular model and burdensome for large systems. We propose a very accurate strategy to overcome this challenge. Its core concept is the conversion of the model into the format of biochemical systems theory (BST), which greatly facilitates the computation of sensitivities. First, the steady state of interest is determined by integrating the model equations toward the steady state and then using a Newton-Raphson method to fine-tune the result. The second step of conversion into the BST format requires several instances of numerical differentiation. The accuracy of this task is ensured by the use of a complex-variable Taylor scheme for all differentiation steps. The proposed strategy is implemented in a new software program, COSMOS, which automates the stability and sensitivity analysis of essentially arbitrary ODE models in a quick, yet highly accurate manner. The methods underlying the process are theoretically analyzed and illustrated with four representative examples: a simple metabolic reaction model; a model of aspartate-derived amino acid biosynthesis; a TCA-cycle model; and a modified TCA-cycle model. COSMOS has been deposited to https://github.com/BioprocessdesignLab/COSMOS.'"
      ]
     },
     "execution_count": 76,
     "metadata": {},
     "output_type": "execute_result"
    }
   ],
   "source": [
    "df.iat[0,0]"
   ]
  },
  {
   "cell_type": "markdown",
   "metadata": {},
   "source": [
    "Use regexp to extract github url from abstract (adapted from  http://stackoverflow.com/questions/839994/extracting-a-url-in-python) - This is overkill, but does the job. We need re to use regular expressoions."
   ]
  },
  {
   "cell_type": "code",
   "execution_count": 77,
   "metadata": {
    "collapsed": true
   },
   "outputs": [],
   "source": [
    "import re\n",
    "URL_REGEX = r\"\"\"(?i)\\b((?:https?:(?:/{1,3}|[a-z0-9%])|[a-z0-9.\\-]+[.](?:com|net|org|edu|gov|mil|aero|asia|biz|cat|coop|info|int|jobs|mobi|museum|name|post|pro|tel|travel|xxx|ac|ad|ae|af|ag|ai|al|am|an|ao|aq|ar|as|at|au|aw|ax|az|ba|bb|bd|be|bf|bg|bh|bi|bj|bm|bn|bo|br|bs|bt|bv|bw|by|bz|ca|cc|cd|cf|cg|ch|ci|ck|cl|cm|cn|co|cr|cs|cu|cv|cx|cy|cz|dd|de|dj|dk|dm|do|dz|ec|ee|eg|eh|er|es|et|eu|fi|fj|fk|fm|fo|fr|ga|gb|gd|ge|gf|gg|gh|gi|gl|gm|gn|gp|gq|gr|gs|gt|gu|gw|gy|hk|hm|hn|hr|ht|hu|id|ie|il|im|in|io|iq|ir|is|it|je|jm|jo|jp|ke|kg|kh|ki|km|kn|kp|kr|kw|ky|kz|la|lb|lc|li|lk|lr|ls|lt|lu|lv|ly|ma|mc|md|me|mg|mh|mk|ml|mm|mn|mo|mp|mq|mr|ms|mt|mu|mv|mw|mx|my|mz|na|nc|ne|nf|ng|ni|nl|no|np|nr|nu|nz|om|pa|pe|pf|pg|ph|pk|pl|pm|pn|pr|ps|pt|pw|py|qa|re|ro|rs|ru|rw|sa|sb|sc|sd|se|sg|sh|si|sj|Ja|sk|sl|sm|sn|so|sr|ss|st|su|sv|sx|sy|sz|tc|td|tf|tg|th|tj|tk|tl|tm|tn|to|tp|tr|tt|tv|tw|tz|ua|ug|uk|us|uy|uz|va|vc|ve|vg|vi|vn|vu|wf|ws|ye|yt|yu|za|zm|zw)/)(?:[^\\s()<>{}\\[\\]]+|\\([^\\s()]*?\\([^\\s()]+\\)[^\\s()]*?\\)|\\([^\\s]+?\\))+(?:\\([^\\s()]*?\\([^\\s()]+\\)[^\\s()]*?\\)|\\([^\\s]+?\\)|[^\\s`!()\\[\\]{};:'\".,<>?«»“”‘’])|(?:(?<!@)[a-z0-9]+(?:[.\\-][a-z0-9]+)*[.](?:com|net|org|edu|gov|mil|aero|asia|biz|cat|coop|info|int|jobs|mobi|museum|name|post|pro|tel|travel|xxx|ac|ad|ae|af|ag|ai|al|am|an|ao|aq|ar|as|at|au|aw|ax|az|ba|bb|bd|be|bf|bg|bh|bi|bj|bm|bn|bo|br|bs|bt|bv|bw|by|bz|ca|cc|cd|cf|cg|ch|ci|ck|cl|cm|cn|co|cr|cs|cu|cv|cx|cy|cz|dd|de|dj|dk|dm|do|dz|ec|ee|eg|eh|er|es|et|eu|fi|fj|fk|fm|fo|fr|ga|gb|gd|ge|gf|gg|gh|gi|gl|gm|gn|gp|gq|gr|gs|gt|gu|gw|gy|hk|hm|hn|hr|ht|hu|id|ie|il|im|in|io|iq|ir|is|it|je|jm|jo|jp|ke|kg|kh|ki|km|kn|kp|kr|kw|ky|kz|la|lb|lc|li|lk|lr|ls|lt|lu|lv|ly|ma|mc|md|me|mg|mh|mk|ml|mm|mn|mo|mp|mq|mr|ms|mt|mu|mv|mw|mx|my|mz|na|nc|ne|nf|ng|ni|nl|no|np|nr|nu|nz|om|pa|pe|pf|pg|ph|pk|pl|pm|pn|pr|ps|pt|pw|py|qa|re|ro|rs|ru|rw|sa|sb|sc|sd|se|sg|sh|si|sj|Ja|sk|sl|sm|sn|so|sr|ss|st|su|sv|sx|sy|sz|tc|td|tf|tg|th|tj|tk|tl|tm|tn|to|tp|tr|tt|tv|tw|tz|ua|ug|uk|us|uy|uz|va|vc|ve|vg|vi|vn|vu|wf|ws|ye|yt|yu|za|zm|zw)\\b/?(?!@)))\"\"\""
   ]
  },
  {
   "cell_type": "markdown",
   "metadata": {},
   "source": [
    "Import urlparse to allow parsing of urls"
   ]
  },
  {
   "cell_type": "code",
   "execution_count": 78,
   "metadata": {
    "collapsed": false
   },
   "outputs": [],
   "source": [
    "from urlparse import urlparse"
   ]
  },
  {
   "cell_type": "markdown",
   "metadata": {
    "collapsed": true
   },
   "source": [
    "Loop through all rows and extract github url from abstract\n",
    "\n",
    "Extracting urls containing the string github to create project url entry\n",
    "If the string starts with http(s)://github.com, we can use urlparse to get the corresponding github project\n",
    "If it starts with github.com, urlparse doesn't work, but we can just truncate the string and get the github project from that\n",
    "\n",
    "Keep track of numbers for later quality control\n"
   ]
  },
  {
   "cell_type": "code",
   "execution_count": 79,
   "metadata": {
    "collapsed": false
   },
   "outputs": [],
   "source": [
    "except_no = 0\n",
    "no_project_from_url = 0\n",
    "project_from_url = 0\n",
    "\n",
    "\n",
    "for i in range(0,(len(df.index)-1)):             \n",
    "    abstract = df.iat[i,0]\n",
    "    github_project = ''\n",
    "    try:\n",
    "        project_url_list = re.findall(URL_REGEX, abstract)\n",
    "        \n",
    "        index = next(j for j, string in enumerate(project_url_list) if \"github\" in string)\n",
    "        project_url = project_url_list[index]\n",
    "                    \n",
    "        df.iat[i,5] = project_url\n",
    "\n",
    "        if project_url.startswith('https://github.com') or project_url.startswith('http://github.com'):\n",
    "            github_project = urlparse(project_url).path[1:]\n",
    "            df.iat[i,3] = github_project\n",
    "            project_from_url = project_from_url + 1 \n",
    "        \n",
    "        elif project_url.startswith('github.com'):\n",
    "            github_project = project_url[11:]\n",
    "            df.iat[i,3] = github_project\n",
    "            project_from_url = project_from_url + 1 \n",
    "            \n",
    "        else:\n",
    "            no_project_from_url = no_project_from_url + 1\n",
    "            \n",
    "    except:\n",
    "        except_no = except_no + 1 \n",
    "        pass"
   ]
  },
  {
   "cell_type": "markdown",
   "metadata": {
    "collapsed": false
   },
   "source": [
    "Check how many abstracts did not have a github url associated with it"
   ]
  },
  {
   "cell_type": "code",
   "execution_count": 80,
   "metadata": {
    "collapsed": false,
    "scrolled": true
   },
   "outputs": [
    {
     "name": "stdout",
     "output_type": "stream",
     "text": [
      "270\n"
     ]
    }
   ],
   "source": [
    "print except_no"
   ]
  },
  {
   "cell_type": "code",
   "execution_count": 81,
   "metadata": {
    "collapsed": false
   },
   "outputs": [
    {
     "data": {
      "text/html": [
       "<div>\n",
       "<table border=\"1\" class=\"dataframe\">\n",
       "  <thead>\n",
       "    <tr style=\"text-align: right;\">\n",
       "      <th></th>\n",
       "      <th>Abstract</th>\n",
       "      <th>Authors</th>\n",
       "      <th>Date</th>\n",
       "      <th>Github</th>\n",
       "      <th>Journal</th>\n",
       "      <th>Url</th>\n",
       "    </tr>\n",
       "  </thead>\n",
       "  <tbody>\n",
       "    <tr>\n",
       "      <th>26357045</th>\n",
       "      <td>Stability and sensitivity analyses of biologic...</td>\n",
       "      <td>[(Shiraishi, Fumihide), (Yoshida, Erika), (Voi...</td>\n",
       "      <td>2015-09-11</td>\n",
       "      <td>BioprocessdesignLab/COSMOS</td>\n",
       "      <td>IEEE/ACM Trans Comput Biol Bioinform</td>\n",
       "      <td>https://github.com/BioprocessdesignLab/COSMOS</td>\n",
       "    </tr>\n",
       "    <tr>\n",
       "      <th>25601296</th>\n",
       "      <td>Most electronic data capture (EDC) and electro...</td>\n",
       "      <td>[(Dixit, Abhishek), (Dobson, Richard J B)]</td>\n",
       "      <td>2015-01-20</td>\n",
       "      <td></td>\n",
       "      <td>JMIR Med Inform</td>\n",
       "      <td></td>\n",
       "    </tr>\n",
       "    <tr>\n",
       "      <th>25558360</th>\n",
       "      <td>Remotely sensed data - available at medium to ...</td>\n",
       "      <td>[(Tuck, Sean L), (Phillips, Helen Rp), (Hintze...</td>\n",
       "      <td>2015-01-05</td>\n",
       "      <td>seantuck12/MODISTools</td>\n",
       "      <td>Ecol Evol</td>\n",
       "      <td>https://github.com/seantuck12/MODISTools</td>\n",
       "    </tr>\n",
       "    <tr>\n",
       "      <th>25553811</th>\n",
       "      <td>Whole-genome bisulfite sequencing (WGBS) is an...</td>\n",
       "      <td>[(Chen, Junfang), (Lutsik, Pavlo), (Akulenko, ...</td>\n",
       "      <td>2015-01-02</td>\n",
       "      <td>Junfang/AKSmooth</td>\n",
       "      <td>J Bioinform Comput Biol</td>\n",
       "      <td>https://github.com/Junfang/AKSmooth</td>\n",
       "    </tr>\n",
       "    <tr>\n",
       "      <th>25549775</th>\n",
       "      <td>A number of computational approaches have been...</td>\n",
       "      <td>[(Manini, Simone), (Antiga, Luca), (Botti, Lor...</td>\n",
       "      <td>2015-06-09</td>\n",
       "      <td></td>\n",
       "      <td>Ann Biomed Eng</td>\n",
       "      <td>http://archtk.github.com</td>\n",
       "    </tr>\n",
       "    <tr>\n",
       "      <th>25543048</th>\n",
       "      <td>Sampling the conformational space of biologica...</td>\n",
       "      <td>[(Bouvier, Guillaume), (Desdouits, Nathan), (F...</td>\n",
       "      <td>2015-04-28</td>\n",
       "      <td></td>\n",
       "      <td>Bioinformatics</td>\n",
       "      <td></td>\n",
       "    </tr>\n",
       "    <tr>\n",
       "      <th>25540185</th>\n",
       "      <td>With rapidly increasing volumes of biological ...</td>\n",
       "      <td>[(Meinicke, Peter)]</td>\n",
       "      <td>2015-04-28</td>\n",
       "      <td></td>\n",
       "      <td>Bioinformatics</td>\n",
       "      <td></td>\n",
       "    </tr>\n",
       "    <tr>\n",
       "      <th>25527832</th>\n",
       "      <td>Current strategies for SNP and INDEL discovery...</td>\n",
       "      <td>[(Lindberg, Michael R), (Hall, Ira M), (Quinla...</td>\n",
       "      <td>2015-04-12</td>\n",
       "      <td></td>\n",
       "      <td>Bioinformatics</td>\n",
       "      <td></td>\n",
       "    </tr>\n",
       "    <tr>\n",
       "      <th>25526884</th>\n",
       "      <td>An absent word of a word y of length n is a wo...</td>\n",
       "      <td>[(Barton, Carl), (Heliou, Alice), (Mouchard, L...</td>\n",
       "      <td>2015-04-27</td>\n",
       "      <td></td>\n",
       "      <td>BMC Bioinformatics</td>\n",
       "      <td></td>\n",
       "    </tr>\n",
       "    <tr>\n",
       "      <th>25524895</th>\n",
       "      <td>VarSim is a framework for assessing alignment ...</td>\n",
       "      <td>[(Mu, John C), (Mohiyuddin, Marghoob), (Li, Ji...</td>\n",
       "      <td>2015-04-28</td>\n",
       "      <td></td>\n",
       "      <td>Bioinformatics</td>\n",
       "      <td></td>\n",
       "    </tr>\n",
       "    <tr>\n",
       "      <th>25521965</th>\n",
       "      <td>Thyroid cancer is the most common endocrine tu...</td>\n",
       "      <td>[(Wu, Chengkun), (Schwartz, Jean-Marc), (Braba...</td>\n",
       "      <td>2014-12-19</td>\n",
       "      <td></td>\n",
       "      <td>BMC Med Genomics</td>\n",
       "      <td></td>\n",
       "    </tr>\n",
       "    <tr>\n",
       "      <th>25520192</th>\n",
       "      <td>RNA performs a diverse array of important func...</td>\n",
       "      <td>[(Gardner, Paul P), (Eldai, Hisham)]</td>\n",
       "      <td>2015-01-24</td>\n",
       "      <td>ppgardne/RMfam</td>\n",
       "      <td>Nucleic Acids Res.</td>\n",
       "      <td>https://github.com/ppgardne/RMfam</td>\n",
       "    </tr>\n",
       "    <tr>\n",
       "      <th>25514851</th>\n",
       "      <td>We describe an open-source kPAL package that f...</td>\n",
       "      <td>[(Anvar, Seyed Yahya), (Khachatryan, Lusine), ...</td>\n",
       "      <td>2015-02-06</td>\n",
       "      <td>LUMC/kPAL</td>\n",
       "      <td>Genome Biol.</td>\n",
       "      <td>https://github.com/LUMC/kPAL</td>\n",
       "    </tr>\n",
       "    <tr>\n",
       "      <th>25505094</th>\n",
       "      <td>Circular permutation is an important type of p...</td>\n",
       "      <td>[(Bliven, Spencer E), (Bourne, Philip E), (Prl...</td>\n",
       "      <td>2015-04-12</td>\n",
       "      <td></td>\n",
       "      <td>Bioinformatics</td>\n",
       "      <td></td>\n",
       "    </tr>\n",
       "    <tr>\n",
       "      <th>25505087</th>\n",
       "      <td>In bioinformatic applications, computationally...</td>\n",
       "      <td>[(Völkel, Gunnar), (Lausser, Ludwig), (Schmid,...</td>\n",
       "      <td>2015-04-12</td>\n",
       "      <td></td>\n",
       "      <td>Bioinformatics</td>\n",
       "      <td></td>\n",
       "    </tr>\n",
       "    <tr>\n",
       "      <th>25505086</th>\n",
       "      <td>All current mitochondrial haplogroup classific...</td>\n",
       "      <td>[(Navarro-Gomez, Daniel), (Leipzig, Jeremy), (...</td>\n",
       "      <td>2015-04-12</td>\n",
       "      <td></td>\n",
       "      <td>Bioinformatics</td>\n",
       "      <td></td>\n",
       "    </tr>\n",
       "    <tr>\n",
       "      <th>25504847</th>\n",
       "      <td>A standard approach to classifying sets of gen...</td>\n",
       "      <td>[(Haubold, Bernhard), (Klötzl, Fabian), (Pfaff...</td>\n",
       "      <td>2015-04-12</td>\n",
       "      <td></td>\n",
       "      <td>Bioinformatics</td>\n",
       "      <td></td>\n",
       "    </tr>\n",
       "    <tr>\n",
       "      <th>25481009</th>\n",
       "      <td>ICMA, a software framework to create 3D finite...</td>\n",
       "      <td>[(Hussan, Jagir R), (Hunter, Peter J), (Gladdi...</td>\n",
       "      <td>2015-04-12</td>\n",
       "      <td></td>\n",
       "      <td>Bioinformatics</td>\n",
       "      <td></td>\n",
       "    </tr>\n",
       "    <tr>\n",
       "      <th>25481007</th>\n",
       "      <td>Kablammo is a web-based application that produ...</td>\n",
       "      <td>[(Wintersinger, Jeff A), (Wasmuth, James D)]</td>\n",
       "      <td>2015-04-12</td>\n",
       "      <td></td>\n",
       "      <td>Bioinformatics</td>\n",
       "      <td></td>\n",
       "    </tr>\n",
       "    <tr>\n",
       "      <th>25480375</th>\n",
       "      <td>Expression quantitative trait loci (eQTL) stud...</td>\n",
       "      <td>[(Harvey, Chris T), (Moyerbrailean, Gregory A)...</td>\n",
       "      <td>2015-04-12</td>\n",
       "      <td></td>\n",
       "      <td>Bioinformatics</td>\n",
       "      <td></td>\n",
       "    </tr>\n",
       "    <tr>\n",
       "      <th>25474353</th>\n",
       "      <td>Phylogenetic analyses which include fossils or...</td>\n",
       "      <td>[(Gavryushkina, Alexandra), (Welch, David), (S...</td>\n",
       "      <td>2014-12-05</td>\n",
       "      <td>CompEvol/sampled-ancestors</td>\n",
       "      <td>PLoS Comput. Biol.</td>\n",
       "      <td>https://github.com/CompEvol/sampled-ancestors</td>\n",
       "    </tr>\n",
       "    <tr>\n",
       "      <th>25461763</th>\n",
       "      <td>Since the read lengths of high throughput sequ...</td>\n",
       "      <td>[(Zhu, Xiao), (Leung, Henry C M), (Chin, Franc...</td>\n",
       "      <td>2014-12-03</td>\n",
       "      <td>hitbio/PERGA</td>\n",
       "      <td>PLoS ONE</td>\n",
       "      <td>https://github.com/hitbio/PERGA</td>\n",
       "    </tr>\n",
       "    <tr>\n",
       "      <th>25452688</th>\n",
       "      <td>Mobile elements constitute greater than 45% of...</td>\n",
       "      <td>[(Lee, Wan-Ping), (Wu, Jiantao), (Marth, Gabor...</td>\n",
       "      <td>2014-12-02</td>\n",
       "      <td>jiantao/Tangram</td>\n",
       "      <td>Cancer Inform</td>\n",
       "      <td>https://github.com/jiantao/Tangram</td>\n",
       "    </tr>\n",
       "    <tr>\n",
       "      <th>25435543</th>\n",
       "      <td>Isobaric labeling techniques coupled with high...</td>\n",
       "      <td>[(Sheng, Quanhu), (Li, Rongxia), (Dai, Jie), (...</td>\n",
       "      <td>2015-01-31</td>\n",
       "      <td>shengqh/RCPA.Tools/releases</td>\n",
       "      <td>Mol. Cell Proteomics</td>\n",
       "      <td>https://github.com/shengqh/RCPA.Tools/releases</td>\n",
       "    </tr>\n",
       "    <tr>\n",
       "      <th>25431162</th>\n",
       "      <td>Post-translational modifications (PTMs) consti...</td>\n",
       "      <td>[(Warnecke, Andreas), (Sandalova, Tatyana), (A...</td>\n",
       "      <td>2015-04-27</td>\n",
       "      <td></td>\n",
       "      <td>BMC Bioinformatics</td>\n",
       "      <td></td>\n",
       "    </tr>\n",
       "    <tr>\n",
       "      <th>25428347</th>\n",
       "      <td>Genetic screens of an unprecedented scale have...</td>\n",
       "      <td>[(Diaz, Aaron A), (Qin, Han), (Ramalho-Santos,...</td>\n",
       "      <td>2015-02-18</td>\n",
       "      <td>diazlab/HiTSelect</td>\n",
       "      <td>Nucleic Acids Res.</td>\n",
       "      <td>https://github.com/diazlab/HiTSelect</td>\n",
       "    </tr>\n",
       "    <tr>\n",
       "      <th>25422674</th>\n",
       "      <td>Rapid molecular typing of bacterial pathogens ...</td>\n",
       "      <td>[(Inouye, Michael), (Dashnow, Harriet), (Raven...</td>\n",
       "      <td>2014-11-25</td>\n",
       "      <td></td>\n",
       "      <td>Genome Med</td>\n",
       "      <td>http://katholt.github.io/srst2/</td>\n",
       "    </tr>\n",
       "    <tr>\n",
       "      <th>25414364</th>\n",
       "      <td>Protein sequence and structure representation ...</td>\n",
       "      <td>[(Hirsh, Layla), (Piovesan, Damiano), (Giollo,...</td>\n",
       "      <td>2015-04-03</td>\n",
       "      <td></td>\n",
       "      <td>Bioinformatics</td>\n",
       "      <td></td>\n",
       "    </tr>\n",
       "    <tr>\n",
       "      <th>25414349</th>\n",
       "      <td>The emergence of new sequencing technologies h...</td>\n",
       "      <td>[(Croucher, Nicholas J), (Page, Andrew J), (Co...</td>\n",
       "      <td>2015-02-18</td>\n",
       "      <td>sanger-pathogens/Gubbins</td>\n",
       "      <td>Nucleic Acids Res.</td>\n",
       "      <td>github.com/sanger-pathogens/Gubbins</td>\n",
       "    </tr>\n",
       "    <tr>\n",
       "      <th>25410596</th>\n",
       "      <td>Whole-genome sequences are now available for m...</td>\n",
       "      <td>[(Treangen, Todd J), (Ondov, Brian D), (Koren,...</td>\n",
       "      <td>2015-01-07</td>\n",
       "      <td>marbl/harvest</td>\n",
       "      <td>Genome Biol.</td>\n",
       "      <td>http://github.com/marbl/harvest</td>\n",
       "    </tr>\n",
       "    <tr>\n",
       "      <th>...</th>\n",
       "      <td>...</td>\n",
       "      <td>...</td>\n",
       "      <td>...</td>\n",
       "      <td>...</td>\n",
       "      <td>...</td>\n",
       "      <td>...</td>\n",
       "    </tr>\n",
       "    <tr>\n",
       "      <th>24728855</th>\n",
       "      <td>Phylogenetic comparative methods are essential...</td>\n",
       "      <td>[(Pennell, Matthew W), (Eastman, Jonathan M), ...</td>\n",
       "      <td>2014-07-19</td>\n",
       "      <td></td>\n",
       "      <td>Bioinformatics</td>\n",
       "      <td></td>\n",
       "    </tr>\n",
       "    <tr>\n",
       "      <th>24727652</th>\n",
       "      <td>Genomic information is encoded on a wide range...</td>\n",
       "      <td>[(Knijnenburg, Theo A), (Ramsey, Stephen A), (...</td>\n",
       "      <td>2014-05-30</td>\n",
       "      <td>tknijnen/msr/</td>\n",
       "      <td>Nat. Methods</td>\n",
       "      <td>https://github.com/tknijnen/msr/</td>\n",
       "    </tr>\n",
       "    <tr>\n",
       "      <th>24715980</th>\n",
       "      <td>Signaling pathways provide essential informati...</td>\n",
       "      <td>[(Villaveces, Jose M), (Jimenez, Rafael C), (H...</td>\n",
       "      <td>2014-04-09</td>\n",
       "      <td></td>\n",
       "      <td>F1000Res</td>\n",
       "      <td></td>\n",
       "    </tr>\n",
       "    <tr>\n",
       "      <th>24707447</th>\n",
       "      <td>Background Understanding the evolutionary rela...</td>\n",
       "      <td>[(Grant, Jessica R), (Katz, Laura A)]</td>\n",
       "      <td>2014-04-07</td>\n",
       "      <td></td>\n",
       "      <td>PLoS Curr</td>\n",
       "      <td></td>\n",
       "    </tr>\n",
       "    <tr>\n",
       "      <th>24703969</th>\n",
       "      <td>Advances in next-generation sequencing (NGS) t...</td>\n",
       "      <td>[(Guo, Yan), (Zhao, Shilin), (Sheng, Quanhu), ...</td>\n",
       "      <td>2014-06-14</td>\n",
       "      <td>slzhao/QC3</td>\n",
       "      <td>Genomics</td>\n",
       "      <td>https://github.com/slzhao/QC3</td>\n",
       "    </tr>\n",
       "    <tr>\n",
       "      <th>24700534</th>\n",
       "      <td>We here present GradientOptimizer, an intuitiv...</td>\n",
       "      <td>[(Moruz, Luminita), (Käll, Lukas)]</td>\n",
       "      <td>2014-06-12</td>\n",
       "      <td>statisticalbiotechnology/NonlinearGradientsUI</td>\n",
       "      <td>Proteomics</td>\n",
       "      <td>https://github.com/statisticalbiotechnology/No...</td>\n",
       "    </tr>\n",
       "    <tr>\n",
       "      <th>24695491</th>\n",
       "      <td>The primary goal of genome-wide association st...</td>\n",
       "      <td>[(Botta, Vincent), (Louppe, Gilles), (Geurts, ...</td>\n",
       "      <td>2014-04-03</td>\n",
       "      <td>0asa/TTree-source</td>\n",
       "      <td>PLoS ONE</td>\n",
       "      <td>github.com/0asa/TTree-source</td>\n",
       "    </tr>\n",
       "    <tr>\n",
       "      <th>24695406</th>\n",
       "      <td>Next-generation sequencing (NGS) has revolutio...</td>\n",
       "      <td>[(Li, Yi), (Xie, Xiaohui)]</td>\n",
       "      <td>2014-07-19</td>\n",
       "      <td></td>\n",
       "      <td>Bioinformatics</td>\n",
       "      <td></td>\n",
       "    </tr>\n",
       "    <tr>\n",
       "      <th>24688855</th>\n",
       "      <td>We present a powerful Python library to quickl...</td>\n",
       "      <td>[(Christensen, Anders S), (Hamelryck, Thomas),...</td>\n",
       "      <td>2014-04-01</td>\n",
       "      <td>jensengroup/fragbuilder/</td>\n",
       "      <td>PeerJ</td>\n",
       "      <td>https://github.com/jensengroup/fragbuilder/</td>\n",
       "    </tr>\n",
       "    <tr>\n",
       "      <th>24681267</th>\n",
       "      <td>Symmetry is an important feature of protein te...</td>\n",
       "      <td>[(Myers-Turnbull, Douglas), (Bliven, Spencer E...</td>\n",
       "      <td>2014-05-06</td>\n",
       "      <td>rcsb/symmetry</td>\n",
       "      <td>J. Mol. Biol.</td>\n",
       "      <td>https://github.com/rcsb/symmetry</td>\n",
       "    </tr>\n",
       "    <tr>\n",
       "      <th>24677618</th>\n",
       "      <td>Transcript-based annotation and pedigree analy...</td>\n",
       "      <td>[(Jäger, Marten), (Wang, Kai), (Bauer, Sebasti...</td>\n",
       "      <td>2014-04-23</td>\n",
       "      <td>charite/jannovar</td>\n",
       "      <td>Hum. Mutat.</td>\n",
       "      <td>https://github.com/charite/jannovar</td>\n",
       "    </tr>\n",
       "    <tr>\n",
       "      <th>24675810</th>\n",
       "      <td>Virus populations can display high genetic div...</td>\n",
       "      <td>[(Töpfer, Armin), (Marschall, Tobias), (Bull, ...</td>\n",
       "      <td>2014-03-28</td>\n",
       "      <td>armintoepfer/haploclique</td>\n",
       "      <td>PLoS Comput. Biol.</td>\n",
       "      <td>https://github.com/armintoepfer/haploclique</td>\n",
       "    </tr>\n",
       "    <tr>\n",
       "      <th>24672471</th>\n",
       "      <td>Analysis of functional magnetic resonance imag...</td>\n",
       "      <td>[(Eklund, Anders), (Dufort, Paul), (Villani, M...</td>\n",
       "      <td>2014-03-27</td>\n",
       "      <td>wanderine/BROCCOLI/</td>\n",
       "      <td>Front Neuroinform</td>\n",
       "      <td>https://github.com/wanderine/BROCCOLI/</td>\n",
       "    </tr>\n",
       "    <tr>\n",
       "      <th>24667828</th>\n",
       "      <td>Bioreactors are designed to support highly con...</td>\n",
       "      <td>[(Burdge, David A), (Libourel, Igor G L)]</td>\n",
       "      <td>2014-03-26</td>\n",
       "      <td>LibourelLab/BiofloSoftware</td>\n",
       "      <td>PLoS ONE</td>\n",
       "      <td>https://github.com/LibourelLab/BiofloSoftware</td>\n",
       "    </tr>\n",
       "    <tr>\n",
       "      <th>24658388</th>\n",
       "      <td>Power line interference may severely corrupt n...</td>\n",
       "      <td>[(Keshtkaran, Mohammad Reza), (Yang, Zhi)]</td>\n",
       "      <td>2014-04-03</td>\n",
       "      <td></td>\n",
       "      <td>J Neural Eng</td>\n",
       "      <td></td>\n",
       "    </tr>\n",
       "    <tr>\n",
       "      <th>24657354</th>\n",
       "      <td>The cerebellum has classically been linked to ...</td>\n",
       "      <td>[(Park, Min Tae M), (Pipitone, Jon), (Baer, La...</td>\n",
       "      <td>2014-06-03</td>\n",
       "      <td>pipitone/MAGeTbrain</td>\n",
       "      <td>Neuroimage</td>\n",
       "      <td>https://github.com/pipitone/MAGeTbrain</td>\n",
       "    </tr>\n",
       "    <tr>\n",
       "      <th>24653694</th>\n",
       "      <td>Analysis of brain connectivity has become an i...</td>\n",
       "      <td>[(Billinger, Martin), (Brunner, Clemens), (Mül...</td>\n",
       "      <td>2014-03-21</td>\n",
       "      <td>SCoT-dev/SCoT</td>\n",
       "      <td>Front Neuroinform</td>\n",
       "      <td>github.com/SCoT-dev/SCoT</td>\n",
       "    </tr>\n",
       "    <tr>\n",
       "      <th>24647222</th>\n",
       "      <td>Genome-Wide Association Studies are widely use...</td>\n",
       "      <td>[(Greshake, Bastian), (Bayer, Philipp E), (Rau...</td>\n",
       "      <td>2014-03-20</td>\n",
       "      <td>gedankenstuecke/snpr</td>\n",
       "      <td>PLoS ONE</td>\n",
       "      <td>http://github.com/gedankenstuecke/snpr</td>\n",
       "    </tr>\n",
       "    <tr>\n",
       "      <th>24627804</th>\n",
       "      <td>The DAGViewer BioJS component is a reusable Ja...</td>\n",
       "      <td>[(Kalderimis, Alexis), (Stepan, Radek), (Sulli...</td>\n",
       "      <td>2014-03-14</td>\n",
       "      <td></td>\n",
       "      <td>F1000Res</td>\n",
       "      <td></td>\n",
       "    </tr>\n",
       "    <tr>\n",
       "      <th>24618470</th>\n",
       "      <td>High-throughput single-cell quantitative real-...</td>\n",
       "      <td>[(Buettner, Florian), (Moignard, Victoria), (G...</td>\n",
       "      <td>2014-06-27</td>\n",
       "      <td></td>\n",
       "      <td>Bioinformatics</td>\n",
       "      <td></td>\n",
       "    </tr>\n",
       "    <tr>\n",
       "      <th>24602450</th>\n",
       "      <td>The secondary structure that maximizes the num...</td>\n",
       "      <td>[(Venkatachalam, Balaji), (Gusfield, Dan), (Fr...</td>\n",
       "      <td>2014-03-24</td>\n",
       "      <td></td>\n",
       "      <td>Algorithms Mol Biol</td>\n",
       "      <td></td>\n",
       "    </tr>\n",
       "    <tr>\n",
       "      <th>24588150</th>\n",
       "      <td>All atom molecular dynamics (MD) models provid...</td>\n",
       "      <td>[(Ljubetič, Ajasja), (Urbančič, Iztok), (Štran...</td>\n",
       "      <td>2014-03-04</td>\n",
       "      <td>lbf-ijs/DiffusiveDynamics</td>\n",
       "      <td>J Chem Phys</td>\n",
       "      <td>https://github.com/lbf-ijs/DiffusiveDynamics</td>\n",
       "    </tr>\n",
       "    <tr>\n",
       "      <th>24586045</th>\n",
       "      <td>In eukaryotes, detailed surveys of recombinati...</td>\n",
       "      <td>[(Yahara, Koji), (Didelot, Xavier), (Ansari, M...</td>\n",
       "      <td>2014-05-26</td>\n",
       "      <td>bioprojects/orderedPainting</td>\n",
       "      <td>Mol. Biol. Evol.</td>\n",
       "      <td>https://github.com/bioprojects/orderedPainting</td>\n",
       "    </tr>\n",
       "    <tr>\n",
       "      <th>24574113</th>\n",
       "      <td>Advances in typing methodologies have recently...</td>\n",
       "      <td>[(Lärkeryd, Adrian), (Myrtennäs, Kerstin), (Ka...</td>\n",
       "      <td>2014-06-16</td>\n",
       "      <td></td>\n",
       "      <td>Bioinformatics</td>\n",
       "      <td></td>\n",
       "    </tr>\n",
       "    <tr>\n",
       "      <th>24567544</th>\n",
       "      <td>The generation of large volumes of omics data ...</td>\n",
       "      <td>[(Deu-Pons, Jordi), (Schroeder, Michael P), (L...</td>\n",
       "      <td>2014-06-16</td>\n",
       "      <td></td>\n",
       "      <td>Bioinformatics</td>\n",
       "      <td></td>\n",
       "    </tr>\n",
       "    <tr>\n",
       "      <th>24564867</th>\n",
       "      <td>RNA-Seq methodology is a revolutionary transcr...</td>\n",
       "      <td>[(Bu, Jingde), (Chi, Xuebin), (Jin, Zhong)]</td>\n",
       "      <td>2014-02-25</td>\n",
       "      <td></td>\n",
       "      <td>BMC Syst Biol</td>\n",
       "      <td></td>\n",
       "    </tr>\n",
       "    <tr>\n",
       "      <th>24564732</th>\n",
       "      <td>The ISA-Tab format and software suite have bee...</td>\n",
       "      <td>[(González-Beltrán, Alejandra), (Neumann, Stef...</td>\n",
       "      <td>2014-02-25</td>\n",
       "      <td></td>\n",
       "      <td>BMC Bioinformatics</td>\n",
       "      <td></td>\n",
       "    </tr>\n",
       "    <tr>\n",
       "      <th>24564706</th>\n",
       "      <td>Among challenges that hamper reaping the benef...</td>\n",
       "      <td>[(Soueidan, Hayssam), (Maurier, Florence), (Gr...</td>\n",
       "      <td>2014-02-25</td>\n",
       "      <td></td>\n",
       "      <td>BMC Bioinformatics</td>\n",
       "      <td></td>\n",
       "    </tr>\n",
       "    <tr>\n",
       "      <th>24564637</th>\n",
       "      <td>Selecting genes and pathways indicative of dis...</td>\n",
       "      <td>[(Zhang, Wen), (Wan, Ying-Wooi), (Allen, Genev...</td>\n",
       "      <td>2014-02-25</td>\n",
       "      <td></td>\n",
       "      <td>BMC Genomics</td>\n",
       "      <td></td>\n",
       "    </tr>\n",
       "    <tr>\n",
       "      <th>24564427</th>\n",
       "      <td>Many biological processes are carried out by p...</td>\n",
       "      <td>[(Wong, Daniel), (Li, Xiao-Li), (Wu, Min), (Zh...</td>\n",
       "      <td>2014-02-25</td>\n",
       "      <td></td>\n",
       "      <td>BMC Genomics</td>\n",
       "      <td></td>\n",
       "    </tr>\n",
       "  </tbody>\n",
       "</table>\n",
       "<p>200 rows × 6 columns</p>\n",
       "</div>"
      ],
      "text/plain": [
       "                                                   Abstract  \\\n",
       "26357045  Stability and sensitivity analyses of biologic...   \n",
       "25601296  Most electronic data capture (EDC) and electro...   \n",
       "25558360  Remotely sensed data - available at medium to ...   \n",
       "25553811  Whole-genome bisulfite sequencing (WGBS) is an...   \n",
       "25549775  A number of computational approaches have been...   \n",
       "25543048  Sampling the conformational space of biologica...   \n",
       "25540185  With rapidly increasing volumes of biological ...   \n",
       "25527832  Current strategies for SNP and INDEL discovery...   \n",
       "25526884  An absent word of a word y of length n is a wo...   \n",
       "25524895  VarSim is a framework for assessing alignment ...   \n",
       "25521965  Thyroid cancer is the most common endocrine tu...   \n",
       "25520192  RNA performs a diverse array of important func...   \n",
       "25514851  We describe an open-source kPAL package that f...   \n",
       "25505094  Circular permutation is an important type of p...   \n",
       "25505087  In bioinformatic applications, computationally...   \n",
       "25505086  All current mitochondrial haplogroup classific...   \n",
       "25504847  A standard approach to classifying sets of gen...   \n",
       "25481009  ICMA, a software framework to create 3D finite...   \n",
       "25481007  Kablammo is a web-based application that produ...   \n",
       "25480375  Expression quantitative trait loci (eQTL) stud...   \n",
       "25474353  Phylogenetic analyses which include fossils or...   \n",
       "25461763  Since the read lengths of high throughput sequ...   \n",
       "25452688  Mobile elements constitute greater than 45% of...   \n",
       "25435543  Isobaric labeling techniques coupled with high...   \n",
       "25431162  Post-translational modifications (PTMs) consti...   \n",
       "25428347  Genetic screens of an unprecedented scale have...   \n",
       "25422674  Rapid molecular typing of bacterial pathogens ...   \n",
       "25414364  Protein sequence and structure representation ...   \n",
       "25414349  The emergence of new sequencing technologies h...   \n",
       "25410596  Whole-genome sequences are now available for m...   \n",
       "...                                                     ...   \n",
       "24728855  Phylogenetic comparative methods are essential...   \n",
       "24727652  Genomic information is encoded on a wide range...   \n",
       "24715980  Signaling pathways provide essential informati...   \n",
       "24707447  Background Understanding the evolutionary rela...   \n",
       "24703969  Advances in next-generation sequencing (NGS) t...   \n",
       "24700534  We here present GradientOptimizer, an intuitiv...   \n",
       "24695491  The primary goal of genome-wide association st...   \n",
       "24695406  Next-generation sequencing (NGS) has revolutio...   \n",
       "24688855  We present a powerful Python library to quickl...   \n",
       "24681267  Symmetry is an important feature of protein te...   \n",
       "24677618  Transcript-based annotation and pedigree analy...   \n",
       "24675810  Virus populations can display high genetic div...   \n",
       "24672471  Analysis of functional magnetic resonance imag...   \n",
       "24667828  Bioreactors are designed to support highly con...   \n",
       "24658388  Power line interference may severely corrupt n...   \n",
       "24657354  The cerebellum has classically been linked to ...   \n",
       "24653694  Analysis of brain connectivity has become an i...   \n",
       "24647222  Genome-Wide Association Studies are widely use...   \n",
       "24627804  The DAGViewer BioJS component is a reusable Ja...   \n",
       "24618470  High-throughput single-cell quantitative real-...   \n",
       "24602450  The secondary structure that maximizes the num...   \n",
       "24588150  All atom molecular dynamics (MD) models provid...   \n",
       "24586045  In eukaryotes, detailed surveys of recombinati...   \n",
       "24574113  Advances in typing methodologies have recently...   \n",
       "24567544  The generation of large volumes of omics data ...   \n",
       "24564867  RNA-Seq methodology is a revolutionary transcr...   \n",
       "24564732  The ISA-Tab format and software suite have bee...   \n",
       "24564706  Among challenges that hamper reaping the benef...   \n",
       "24564637  Selecting genes and pathways indicative of dis...   \n",
       "24564427  Many biological processes are carried out by p...   \n",
       "\n",
       "                                                    Authors        Date  \\\n",
       "26357045  [(Shiraishi, Fumihide), (Yoshida, Erika), (Voi...  2015-09-11   \n",
       "25601296         [(Dixit, Abhishek), (Dobson, Richard J B)]  2015-01-20   \n",
       "25558360  [(Tuck, Sean L), (Phillips, Helen Rp), (Hintze...  2015-01-05   \n",
       "25553811  [(Chen, Junfang), (Lutsik, Pavlo), (Akulenko, ...  2015-01-02   \n",
       "25549775  [(Manini, Simone), (Antiga, Luca), (Botti, Lor...  2015-06-09   \n",
       "25543048  [(Bouvier, Guillaume), (Desdouits, Nathan), (F...  2015-04-28   \n",
       "25540185                                [(Meinicke, Peter)]  2015-04-28   \n",
       "25527832  [(Lindberg, Michael R), (Hall, Ira M), (Quinla...  2015-04-12   \n",
       "25526884  [(Barton, Carl), (Heliou, Alice), (Mouchard, L...  2015-04-27   \n",
       "25524895  [(Mu, John C), (Mohiyuddin, Marghoob), (Li, Ji...  2015-04-28   \n",
       "25521965  [(Wu, Chengkun), (Schwartz, Jean-Marc), (Braba...  2014-12-19   \n",
       "25520192               [(Gardner, Paul P), (Eldai, Hisham)]  2015-01-24   \n",
       "25514851  [(Anvar, Seyed Yahya), (Khachatryan, Lusine), ...  2015-02-06   \n",
       "25505094  [(Bliven, Spencer E), (Bourne, Philip E), (Prl...  2015-04-12   \n",
       "25505087  [(Völkel, Gunnar), (Lausser, Ludwig), (Schmid,...  2015-04-12   \n",
       "25505086  [(Navarro-Gomez, Daniel), (Leipzig, Jeremy), (...  2015-04-12   \n",
       "25504847  [(Haubold, Bernhard), (Klötzl, Fabian), (Pfaff...  2015-04-12   \n",
       "25481009  [(Hussan, Jagir R), (Hunter, Peter J), (Gladdi...  2015-04-12   \n",
       "25481007       [(Wintersinger, Jeff A), (Wasmuth, James D)]  2015-04-12   \n",
       "25480375  [(Harvey, Chris T), (Moyerbrailean, Gregory A)...  2015-04-12   \n",
       "25474353  [(Gavryushkina, Alexandra), (Welch, David), (S...  2014-12-05   \n",
       "25461763  [(Zhu, Xiao), (Leung, Henry C M), (Chin, Franc...  2014-12-03   \n",
       "25452688  [(Lee, Wan-Ping), (Wu, Jiantao), (Marth, Gabor...  2014-12-02   \n",
       "25435543  [(Sheng, Quanhu), (Li, Rongxia), (Dai, Jie), (...  2015-01-31   \n",
       "25431162  [(Warnecke, Andreas), (Sandalova, Tatyana), (A...  2015-04-27   \n",
       "25428347  [(Diaz, Aaron A), (Qin, Han), (Ramalho-Santos,...  2015-02-18   \n",
       "25422674  [(Inouye, Michael), (Dashnow, Harriet), (Raven...  2014-11-25   \n",
       "25414364  [(Hirsh, Layla), (Piovesan, Damiano), (Giollo,...  2015-04-03   \n",
       "25414349  [(Croucher, Nicholas J), (Page, Andrew J), (Co...  2015-02-18   \n",
       "25410596  [(Treangen, Todd J), (Ondov, Brian D), (Koren,...  2015-01-07   \n",
       "...                                                     ...         ...   \n",
       "24728855  [(Pennell, Matthew W), (Eastman, Jonathan M), ...  2014-07-19   \n",
       "24727652  [(Knijnenburg, Theo A), (Ramsey, Stephen A), (...  2014-05-30   \n",
       "24715980  [(Villaveces, Jose M), (Jimenez, Rafael C), (H...  2014-04-09   \n",
       "24707447              [(Grant, Jessica R), (Katz, Laura A)]  2014-04-07   \n",
       "24703969  [(Guo, Yan), (Zhao, Shilin), (Sheng, Quanhu), ...  2014-06-14   \n",
       "24700534                 [(Moruz, Luminita), (Käll, Lukas)]  2014-06-12   \n",
       "24695491  [(Botta, Vincent), (Louppe, Gilles), (Geurts, ...  2014-04-03   \n",
       "24695406                         [(Li, Yi), (Xie, Xiaohui)]  2014-07-19   \n",
       "24688855  [(Christensen, Anders S), (Hamelryck, Thomas),...  2014-04-01   \n",
       "24681267  [(Myers-Turnbull, Douglas), (Bliven, Spencer E...  2014-05-06   \n",
       "24677618  [(Jäger, Marten), (Wang, Kai), (Bauer, Sebasti...  2014-04-23   \n",
       "24675810  [(Töpfer, Armin), (Marschall, Tobias), (Bull, ...  2014-03-28   \n",
       "24672471  [(Eklund, Anders), (Dufort, Paul), (Villani, M...  2014-03-27   \n",
       "24667828          [(Burdge, David A), (Libourel, Igor G L)]  2014-03-26   \n",
       "24658388         [(Keshtkaran, Mohammad Reza), (Yang, Zhi)]  2014-04-03   \n",
       "24657354  [(Park, Min Tae M), (Pipitone, Jon), (Baer, La...  2014-06-03   \n",
       "24653694  [(Billinger, Martin), (Brunner, Clemens), (Mül...  2014-03-21   \n",
       "24647222  [(Greshake, Bastian), (Bayer, Philipp E), (Rau...  2014-03-20   \n",
       "24627804  [(Kalderimis, Alexis), (Stepan, Radek), (Sulli...  2014-03-14   \n",
       "24618470  [(Buettner, Florian), (Moignard, Victoria), (G...  2014-06-27   \n",
       "24602450  [(Venkatachalam, Balaji), (Gusfield, Dan), (Fr...  2014-03-24   \n",
       "24588150  [(Ljubetič, Ajasja), (Urbančič, Iztok), (Štran...  2014-03-04   \n",
       "24586045  [(Yahara, Koji), (Didelot, Xavier), (Ansari, M...  2014-05-26   \n",
       "24574113  [(Lärkeryd, Adrian), (Myrtennäs, Kerstin), (Ka...  2014-06-16   \n",
       "24567544  [(Deu-Pons, Jordi), (Schroeder, Michael P), (L...  2014-06-16   \n",
       "24564867        [(Bu, Jingde), (Chi, Xuebin), (Jin, Zhong)]  2014-02-25   \n",
       "24564732  [(González-Beltrán, Alejandra), (Neumann, Stef...  2014-02-25   \n",
       "24564706  [(Soueidan, Hayssam), (Maurier, Florence), (Gr...  2014-02-25   \n",
       "24564637  [(Zhang, Wen), (Wan, Ying-Wooi), (Allen, Genev...  2014-02-25   \n",
       "24564427  [(Wong, Daniel), (Li, Xiao-Li), (Wu, Min), (Zh...  2014-02-25   \n",
       "\n",
       "                                                 Github  \\\n",
       "26357045                     BioprocessdesignLab/COSMOS   \n",
       "25601296                                                  \n",
       "25558360                          seantuck12/MODISTools   \n",
       "25553811                               Junfang/AKSmooth   \n",
       "25549775                                                  \n",
       "25543048                                                  \n",
       "25540185                                                  \n",
       "25527832                                                  \n",
       "25526884                                                  \n",
       "25524895                                                  \n",
       "25521965                                                  \n",
       "25520192                                 ppgardne/RMfam   \n",
       "25514851                                      LUMC/kPAL   \n",
       "25505094                                                  \n",
       "25505087                                                  \n",
       "25505086                                                  \n",
       "25504847                                                  \n",
       "25481009                                                  \n",
       "25481007                                                  \n",
       "25480375                                                  \n",
       "25474353                     CompEvol/sampled-ancestors   \n",
       "25461763                                   hitbio/PERGA   \n",
       "25452688                                jiantao/Tangram   \n",
       "25435543                    shengqh/RCPA.Tools/releases   \n",
       "25431162                                                  \n",
       "25428347                              diazlab/HiTSelect   \n",
       "25422674                                                  \n",
       "25414364                                                  \n",
       "25414349                       sanger-pathogens/Gubbins   \n",
       "25410596                                  marbl/harvest   \n",
       "...                                                 ...   \n",
       "24728855                                                  \n",
       "24727652                                  tknijnen/msr/   \n",
       "24715980                                                  \n",
       "24707447                                                  \n",
       "24703969                                     slzhao/QC3   \n",
       "24700534  statisticalbiotechnology/NonlinearGradientsUI   \n",
       "24695491                              0asa/TTree-source   \n",
       "24695406                                                  \n",
       "24688855                       jensengroup/fragbuilder/   \n",
       "24681267                                  rcsb/symmetry   \n",
       "24677618                               charite/jannovar   \n",
       "24675810                       armintoepfer/haploclique   \n",
       "24672471                            wanderine/BROCCOLI/   \n",
       "24667828                     LibourelLab/BiofloSoftware   \n",
       "24658388                                                  \n",
       "24657354                            pipitone/MAGeTbrain   \n",
       "24653694                                  SCoT-dev/SCoT   \n",
       "24647222                           gedankenstuecke/snpr   \n",
       "24627804                                                  \n",
       "24618470                                                  \n",
       "24602450                                                  \n",
       "24588150                      lbf-ijs/DiffusiveDynamics   \n",
       "24586045                    bioprojects/orderedPainting   \n",
       "24574113                                                  \n",
       "24567544                                                  \n",
       "24564867                                                  \n",
       "24564732                                                  \n",
       "24564706                                                  \n",
       "24564637                                                  \n",
       "24564427                                                  \n",
       "\n",
       "                                       Journal  \\\n",
       "26357045  IEEE/ACM Trans Comput Biol Bioinform   \n",
       "25601296                       JMIR Med Inform   \n",
       "25558360                             Ecol Evol   \n",
       "25553811               J Bioinform Comput Biol   \n",
       "25549775                        Ann Biomed Eng   \n",
       "25543048                        Bioinformatics   \n",
       "25540185                        Bioinformatics   \n",
       "25527832                        Bioinformatics   \n",
       "25526884                    BMC Bioinformatics   \n",
       "25524895                        Bioinformatics   \n",
       "25521965                      BMC Med Genomics   \n",
       "25520192                    Nucleic Acids Res.   \n",
       "25514851                          Genome Biol.   \n",
       "25505094                        Bioinformatics   \n",
       "25505087                        Bioinformatics   \n",
       "25505086                        Bioinformatics   \n",
       "25504847                        Bioinformatics   \n",
       "25481009                        Bioinformatics   \n",
       "25481007                        Bioinformatics   \n",
       "25480375                        Bioinformatics   \n",
       "25474353                    PLoS Comput. Biol.   \n",
       "25461763                              PLoS ONE   \n",
       "25452688                         Cancer Inform   \n",
       "25435543                  Mol. Cell Proteomics   \n",
       "25431162                    BMC Bioinformatics   \n",
       "25428347                    Nucleic Acids Res.   \n",
       "25422674                            Genome Med   \n",
       "25414364                        Bioinformatics   \n",
       "25414349                    Nucleic Acids Res.   \n",
       "25410596                          Genome Biol.   \n",
       "...                                        ...   \n",
       "24728855                        Bioinformatics   \n",
       "24727652                          Nat. Methods   \n",
       "24715980                              F1000Res   \n",
       "24707447                             PLoS Curr   \n",
       "24703969                              Genomics   \n",
       "24700534                            Proteomics   \n",
       "24695491                              PLoS ONE   \n",
       "24695406                        Bioinformatics   \n",
       "24688855                                 PeerJ   \n",
       "24681267                         J. Mol. Biol.   \n",
       "24677618                           Hum. Mutat.   \n",
       "24675810                    PLoS Comput. Biol.   \n",
       "24672471                     Front Neuroinform   \n",
       "24667828                              PLoS ONE   \n",
       "24658388                          J Neural Eng   \n",
       "24657354                            Neuroimage   \n",
       "24653694                     Front Neuroinform   \n",
       "24647222                              PLoS ONE   \n",
       "24627804                              F1000Res   \n",
       "24618470                        Bioinformatics   \n",
       "24602450                   Algorithms Mol Biol   \n",
       "24588150                           J Chem Phys   \n",
       "24586045                      Mol. Biol. Evol.   \n",
       "24574113                        Bioinformatics   \n",
       "24567544                        Bioinformatics   \n",
       "24564867                         BMC Syst Biol   \n",
       "24564732                    BMC Bioinformatics   \n",
       "24564706                    BMC Bioinformatics   \n",
       "24564637                          BMC Genomics   \n",
       "24564427                          BMC Genomics   \n",
       "\n",
       "                                                        Url  \n",
       "26357045      https://github.com/BioprocessdesignLab/COSMOS  \n",
       "25601296                                                     \n",
       "25558360           https://github.com/seantuck12/MODISTools  \n",
       "25553811                https://github.com/Junfang/AKSmooth  \n",
       "25549775                           http://archtk.github.com  \n",
       "25543048                                                     \n",
       "25540185                                                     \n",
       "25527832                                                     \n",
       "25526884                                                     \n",
       "25524895                                                     \n",
       "25521965                                                     \n",
       "25520192                  https://github.com/ppgardne/RMfam  \n",
       "25514851                       https://github.com/LUMC/kPAL  \n",
       "25505094                                                     \n",
       "25505087                                                     \n",
       "25505086                                                     \n",
       "25504847                                                     \n",
       "25481009                                                     \n",
       "25481007                                                     \n",
       "25480375                                                     \n",
       "25474353      https://github.com/CompEvol/sampled-ancestors  \n",
       "25461763                    https://github.com/hitbio/PERGA  \n",
       "25452688                 https://github.com/jiantao/Tangram  \n",
       "25435543     https://github.com/shengqh/RCPA.Tools/releases  \n",
       "25431162                                                     \n",
       "25428347               https://github.com/diazlab/HiTSelect  \n",
       "25422674                    http://katholt.github.io/srst2/  \n",
       "25414364                                                     \n",
       "25414349                github.com/sanger-pathogens/Gubbins  \n",
       "25410596                    http://github.com/marbl/harvest  \n",
       "...                                                     ...  \n",
       "24728855                                                     \n",
       "24727652                   https://github.com/tknijnen/msr/  \n",
       "24715980                                                     \n",
       "24707447                                                     \n",
       "24703969                      https://github.com/slzhao/QC3  \n",
       "24700534  https://github.com/statisticalbiotechnology/No...  \n",
       "24695491                       github.com/0asa/TTree-source  \n",
       "24695406                                                     \n",
       "24688855        https://github.com/jensengroup/fragbuilder/  \n",
       "24681267                   https://github.com/rcsb/symmetry  \n",
       "24677618                https://github.com/charite/jannovar  \n",
       "24675810        https://github.com/armintoepfer/haploclique  \n",
       "24672471             https://github.com/wanderine/BROCCOLI/  \n",
       "24667828      https://github.com/LibourelLab/BiofloSoftware  \n",
       "24658388                                                     \n",
       "24657354             https://github.com/pipitone/MAGeTbrain  \n",
       "24653694                           github.com/SCoT-dev/SCoT  \n",
       "24647222             http://github.com/gedankenstuecke/snpr  \n",
       "24627804                                                     \n",
       "24618470                                                     \n",
       "24602450                                                     \n",
       "24588150       https://github.com/lbf-ijs/DiffusiveDynamics  \n",
       "24586045     https://github.com/bioprojects/orderedPainting  \n",
       "24574113                                                     \n",
       "24567544                                                     \n",
       "24564867                                                     \n",
       "24564732                                                     \n",
       "24564706                                                     \n",
       "24564637                                                     \n",
       "24564427                                                     \n",
       "\n",
       "[200 rows x 6 columns]"
      ]
     },
     "execution_count": 81,
     "metadata": {},
     "output_type": "execute_result"
    }
   ],
   "source": [
    "df.head(200)"
   ]
  },
  {
   "cell_type": "markdown",
   "metadata": {
    "collapsed": true
   },
   "source": [
    "Quality control: see for how many urls the extraction of a github project has worked"
   ]
  },
  {
   "cell_type": "code",
   "execution_count": 82,
   "metadata": {
    "collapsed": false
   },
   "outputs": [
    {
     "name": "stdout",
     "output_type": "stream",
     "text": [
      "15\n",
      "116\n"
     ]
    }
   ],
   "source": [
    "print no_project_from_url\n",
    "print project_from_url"
   ]
  },
  {
   "cell_type": "code",
   "execution_count": 96,
   "metadata": {
    "collapsed": false
   },
   "outputs": [
    {
     "name": "stdout",
     "output_type": "stream",
     "text": [
      "28.7841191067\n"
     ]
    }
   ],
   "source": [
    "total_rows = len(df.index)+1\n",
    "\n",
    "print project_from_url*100.0/total_rows\n",
    "\n",
    "print project_from_url*100.0/(total)"
   ]
  },
  {
   "cell_type": "code",
   "execution_count": 84,
   "metadata": {
    "collapsed": false
   },
   "outputs": [
    {
     "name": "stdout",
     "output_type": "stream",
     "text": [
      "https://github.com/BioprocessdesignLab/COSMOS\n"
     ]
    }
   ],
   "source": [
    "test = str(df.iat[0,5])\n",
    "print test"
   ]
  },
  {
   "cell_type": "code",
   "execution_count": 85,
   "metadata": {
    "collapsed": false
   },
   "outputs": [
    {
     "name": "stdout",
     "output_type": "stream",
     "text": [
      "http://archtk.github.com\n"
     ]
    }
   ],
   "source": [
    "test2 = str(df.iat[4,5])\n",
    "print test2"
   ]
  },
  {
   "cell_type": "code",
   "execution_count": 86,
   "metadata": {
    "collapsed": false
   },
   "outputs": [
    {
     "data": {
      "text/plain": [
       "ParseResult(scheme='https', netloc='github.com', path='/BioprocessdesignLab/COSMOS', params='', query='', fragment='')"
      ]
     },
     "execution_count": 86,
     "metadata": {},
     "output_type": "execute_result"
    }
   ],
   "source": [
    "urlparse(test)\n"
   ]
  },
  {
   "cell_type": "code",
   "execution_count": 87,
   "metadata": {
    "collapsed": false
   },
   "outputs": [
    {
     "data": {
      "text/plain": [
       "ParseResult(scheme='http', netloc='archtk.github.com', path='', params='', query='', fragment='')"
      ]
     },
     "execution_count": 87,
     "metadata": {},
     "output_type": "execute_result"
    }
   ],
   "source": [
    "urlparse(test2)"
   ]
  },
  {
   "cell_type": "code",
   "execution_count": 88,
   "metadata": {
    "collapsed": false
   },
   "outputs": [],
   "source": [
    "gurl = urlparse(\"https://github.com/BioprosessdesignLab/COSMOS\")"
   ]
  },
  {
   "cell_type": "code",
   "execution_count": 89,
   "metadata": {
    "collapsed": false
   },
   "outputs": [
    {
     "name": "stdout",
     "output_type": "stream",
     "text": [
      "/BioprosessdesignLab/COSMOS\n"
     ]
    }
   ],
   "source": [
    "print(gurl.path)"
   ]
  },
  {
   "cell_type": "code",
   "execution_count": 90,
   "metadata": {
    "collapsed": false
   },
   "outputs": [
    {
     "data": {
      "text/plain": [
       "0"
      ]
     },
     "execution_count": 90,
     "metadata": {},
     "output_type": "execute_result"
    }
   ],
   "source": [
    "test.find(\"https://github.com/\")\n",
    "\n"
   ]
  },
  {
   "cell_type": "markdown",
   "metadata": {
    "collapsed": false
   },
   "source": [
    "access github api using pygithub\n"
   ]
  },
  {
   "cell_type": "code",
   "execution_count": 91,
   "metadata": {
    "collapsed": false
   },
   "outputs": [],
   "source": [
    "from github import Github\n",
    "\n",
    "g = Github()"
   ]
  },
  {
   "cell_type": "code",
   "execution_count": 92,
   "metadata": {
    "collapsed": false
   },
   "outputs": [
    {
     "name": "stdout",
     "output_type": "stream",
     "text": [
      "Whisper is a file-based time-series database format for Graphite.\n"
     ]
    }
   ],
   "source": [
    "whisper = g.get_repo(\"graphite-project/whisper\")\n",
    "print whisper.description"
   ]
  },
  {
   "cell_type": "code",
   "execution_count": 93,
   "metadata": {
    "collapsed": false
   },
   "outputs": [
    {
     "name": "stdout",
     "output_type": "stream",
     "text": [
      "Computation of Sensitivities in Model ODE Systems\n"
     ]
    }
   ],
   "source": [
    "cosmos = g.get_repo(\"BioprocessdesignLab/COSMOS\")\n",
    "print cosmos.description"
   ]
  }
 ],
 "metadata": {
  "kernelspec": {
   "display_name": "Python 2",
   "language": "python",
   "name": "python2"
  },
  "language_info": {
   "codemirror_mode": {
    "name": "ipython",
    "version": 2
   },
   "file_extension": ".py",
   "mimetype": "text/x-python",
   "name": "python",
   "nbconvert_exporter": "python",
   "pygments_lexer": "ipython2",
   "version": "2.7.10"
  }
 },
 "nbformat": 4,
 "nbformat_minor": 0
}
