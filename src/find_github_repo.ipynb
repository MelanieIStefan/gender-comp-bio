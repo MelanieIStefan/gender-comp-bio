{
 "cells": [
  {
   "cell_type": "markdown",
   "metadata": {},
   "source": [
    "# find_github_repo\n",
    "\n",
    "## Goals\n",
    "\n",
    "- To extract the names of github repositories from Pubmed abstracts that mention github.\n",
    "- To use the github api to get author and contribution data about those repositories\n",
    "- To create a dataset linking the two\n",
    "\n",
    "The bit that reads in xml files and extracts article information to a data frame is from Kevin's xml_parsing script"
   ]
  },
  {
   "cell_type": "markdown",
   "metadata": {},
   "source": [
    "First, set working directory"
   ]
  },
  {
   "cell_type": "code",
   "execution_count": 25,
   "metadata": {
    "collapsed": false
   },
   "outputs": [
    {
     "data": {
      "text/plain": [
       "['github_pubs.xml', 'README.md']"
      ]
     },
     "execution_count": 25,
     "metadata": {},
     "output_type": "execute_result"
    }
   ],
   "source": [
    "import os\n",
    "os.chdir(\"../data/\")\n",
    "os.listdir(\"./\")"
   ]
  },
  {
   "cell_type": "markdown",
   "metadata": {},
   "source": [
    "Next, import libraries needed for xml parsing"
   ]
  },
  {
   "cell_type": "code",
   "execution_count": 26,
   "metadata": {
    "collapsed": true
   },
   "outputs": [],
   "source": [
    "import xml.etree.ElementTree as ET\n",
    "import datetime"
   ]
  },
  {
   "cell_type": "markdown",
   "metadata": {},
   "source": [
    "Create Article class definition"
   ]
  },
  {
   "cell_type": "code",
   "execution_count": 27,
   "metadata": {
    "collapsed": true
   },
   "outputs": [],
   "source": [
    "class Article(object):\n",
    "    \"\"\"Container for publication info\"\"\"\n",
    "    def __init__(self, pmid, pubdate, journal, title, abstract, authors):\n",
    "        self.pmid = pmid\n",
    "        self.pubdate = pubdate\n",
    "        self.journal = journal\n",
    "        self.title = title\n",
    "        self.abstract = abstract\n",
    "        self.authors = authors\n",
    "    def __repr__(self):\n",
    "        return \"<Article PMID: {}>\".format(self.pmid)\n",
    "\n",
    "    def get_authors(self):\n",
    "        for author in self.authors:\n",
    "            yield author[\"Last\"], author[\"First\"]"
   ]
  },
  {
   "cell_type": "markdown",
   "metadata": {},
   "source": [
    "Article generator function"
   ]
  },
  {
   "cell_type": "code",
   "execution_count": 28,
   "metadata": {
    "collapsed": true
   },
   "outputs": [],
   "source": [
    "def parse_pubmed_xml(xml_file):\n",
    "    xml_handle = ET.parse(xml_file)\n",
    "    root = xml_handle.getroot()\n",
    "\n",
    "    for Citation in root.iter(\"MedlineCitation\"):\n",
    "        pmid = Citation[0].text\n",
    "        pubdate = datetime.date(\n",
    "            int(Citation[1][0].text),  # year\n",
    "            int(Citation[1][1].text),  # month\n",
    "            int(Citation[1][2].text)  # day\n",
    "            )\n",
    "        \n",
    "        Journal = next(Citation.iter(\"Journal\"))\n",
    "\n",
    "        journal_title = Journal.find(\"ISOAbbreviation\").text\n",
    "        article_title = next(Citation.iter(\"ArticleTitle\")).text\n",
    "        \n",
    "        abstract = next(Citation.iter(\"AbstractText\")).text\n",
    "        try:\n",
    "            authors = [{\n",
    "                \"Last\": Author.find(\"LastName\").text,\n",
    "                \"First\": Author.find(\"ForeName\").text\n",
    "                   } for Author in Citation.iter(\"Author\")]\n",
    "        except:\n",
    "           continue\n",
    "        \n",
    "        yield Article(pmid, pubdate, journal_title, article_title, abstract, authors)"
   ]
  },
  {
   "cell_type": "markdown",
   "metadata": {},
   "source": [
    "Make data frame (this differs a bit from Kevin's code by including abstract and url field) "
   ]
  },
  {
   "cell_type": "code",
   "execution_count": 67,
   "metadata": {
    "collapsed": false,
    "scrolled": true
   },
   "outputs": [
    {
     "data": {
      "text/html": [
       "<div style=\"max-height:1000px;max-width:1500px;overflow:auto;\">\n",
       "<table border=\"1\" class=\"dataframe\">\n",
       "  <thead>\n",
       "    <tr style=\"text-align: right;\">\n",
       "      <th></th>\n",
       "      <th>Abstract</th>\n",
       "      <th>Authors</th>\n",
       "      <th>Date</th>\n",
       "      <th>Journal</th>\n",
       "      <th>Url</th>\n",
       "    </tr>\n",
       "  </thead>\n",
       "  <tbody>\n",
       "    <tr>\n",
       "      <th>26357045</th>\n",
       "      <td> Stability and sensitivity analyses of biologic...</td>\n",
       "      <td> [(Shiraishi, Fumihide), (Yoshida, Erika), (Voi...</td>\n",
       "      <td> 2015-09-11</td>\n",
       "      <td> IEEE/ACM Trans Comput Biol Bioinform</td>\n",
       "      <td> </td>\n",
       "    </tr>\n",
       "    <tr>\n",
       "      <th>25601296</th>\n",
       "      <td> Most electronic data capture (EDC) and electro...</td>\n",
       "      <td>        [(Dixit, Abhishek), (Dobson, Richard J B)]</td>\n",
       "      <td> 2015-01-20</td>\n",
       "      <td>                      JMIR Med Inform</td>\n",
       "      <td> </td>\n",
       "    </tr>\n",
       "    <tr>\n",
       "      <th>25558360</th>\n",
       "      <td> Remotely sensed data - available at medium to ...</td>\n",
       "      <td> [(Tuck, Sean L), (Phillips, Helen Rp), (Hintze...</td>\n",
       "      <td> 2015-01-05</td>\n",
       "      <td>                            Ecol Evol</td>\n",
       "      <td> </td>\n",
       "    </tr>\n",
       "    <tr>\n",
       "      <th>25553811</th>\n",
       "      <td> Whole-genome bisulfite sequencing (WGBS) is an...</td>\n",
       "      <td> [(Chen, Junfang), (Lutsik, Pavlo), (Akulenko, ...</td>\n",
       "      <td> 2015-01-02</td>\n",
       "      <td>              J Bioinform Comput Biol</td>\n",
       "      <td> </td>\n",
       "    </tr>\n",
       "    <tr>\n",
       "      <th>25549775</th>\n",
       "      <td> A number of computational approaches have been...</td>\n",
       "      <td> [(Manini, Simone), (Antiga, Luca), (Botti, Lor...</td>\n",
       "      <td> 2015-06-09</td>\n",
       "      <td>                       Ann Biomed Eng</td>\n",
       "      <td> </td>\n",
       "    </tr>\n",
       "  </tbody>\n",
       "</table>\n",
       "</div>"
      ],
      "text/plain": [
       "                                                   Abstract  \\\n",
       "26357045  Stability and sensitivity analyses of biologic...   \n",
       "25601296  Most electronic data capture (EDC) and electro...   \n",
       "25558360  Remotely sensed data - available at medium to ...   \n",
       "25553811  Whole-genome bisulfite sequencing (WGBS) is an...   \n",
       "25549775  A number of computational approaches have been...   \n",
       "\n",
       "                                                    Authors        Date  \\\n",
       "26357045  [(Shiraishi, Fumihide), (Yoshida, Erika), (Voi...  2015-09-11   \n",
       "25601296         [(Dixit, Abhishek), (Dobson, Richard J B)]  2015-01-20   \n",
       "25558360  [(Tuck, Sean L), (Phillips, Helen Rp), (Hintze...  2015-01-05   \n",
       "25553811  [(Chen, Junfang), (Lutsik, Pavlo), (Akulenko, ...  2015-01-02   \n",
       "25549775  [(Manini, Simone), (Antiga, Luca), (Botti, Lor...  2015-06-09   \n",
       "\n",
       "                                       Journal Url  \n",
       "26357045  IEEE/ACM Trans Comput Biol Bioinform      \n",
       "25601296                       JMIR Med Inform      \n",
       "25558360                             Ecol Evol      \n",
       "25553811               J Bioinform Comput Biol      \n",
       "25549775                        Ann Biomed Eng      "
      ]
     },
     "execution_count": 67,
     "metadata": {},
     "output_type": "execute_result"
    }
   ],
   "source": [
    "import pandas as pd\n",
    "df = pd.DataFrame()\n",
    "col_names = [\"Date\", \"Journal\", \"Authors\",\"Abstract\",\"Url\"]\n",
    "\n",
    "for article in parse_pubmed_xml('github_pubs.xml'):\n",
    "    row = pd.Series([article.pubdate, article.journal, [(author[0], author[1]) for author in article.get_authors()],\n",
    "                     article.abstract, ''],name=article.pmid, index=col_names)\n",
    "    df = df.append(row)\n",
    "\n",
    "df.head()"
   ]
  },
  {
   "cell_type": "markdown",
   "metadata": {
    "collapsed": true
   },
   "source": [
    "Check the content of the first abstract"
   ]
  },
  {
   "cell_type": "code",
   "execution_count": 30,
   "metadata": {
    "collapsed": false
   },
   "outputs": [
    {
     "data": {
      "text/plain": [
       "'Stability and sensitivity analyses of biological systems require the ad hocwriting of computer code, which is highly dependent on the particular model and burdensome for large systems. We propose a very accurate strategy to overcome this challenge. Its core concept is the conversion of the model into the format of biochemical systems theory (BST), which greatly facilitates the computation of sensitivities. First, the steady state of interest is determined by integrating the model equations toward the steady state and then using a Newton-Raphson method to fine-tune the result. The second step of conversion into the BST format requires several instances of numerical differentiation. The accuracy of this task is ensured by the use of a complex-variable Taylor scheme for all differentiation steps. The proposed strategy is implemented in a new software program, COSMOS, which automates the stability and sensitivity analysis of essentially arbitrary ODE models in a quick, yet highly accurate manner. The methods underlying the process are theoretically analyzed and illustrated with four representative examples: a simple metabolic reaction model; a model of aspartate-derived amino acid biosynthesis; a TCA-cycle model; and a modified TCA-cycle model. COSMOS has been deposited to https://github.com/BioprocessdesignLab/COSMOS.'"
      ]
     },
     "execution_count": 30,
     "metadata": {},
     "output_type": "execute_result"
    }
   ],
   "source": [
    "df.iat[0,0]"
   ]
  },
  {
   "cell_type": "markdown",
   "metadata": {},
   "source": [
    "Find address of github repository from abstract by searching for the \"https://github.com\" and then for the next space (this seems to work even if the abstract ends with the github address, so there is no space at the end).\n",
    "\n",
    "TO DO: Work out problem in for loop! Work out close paren problem"
   ]
  },
  {
   "cell_type": "code",
   "execution_count": 78,
   "metadata": {
    "collapsed": false
   },
   "outputs": [
    {
     "ename": "AttributeError",
     "evalue": "'NoneType' object has no attribute 'find'",
     "output_type": "error",
     "traceback": [
      "\u001b[1;31m---------------------------------------------------------------------------\u001b[0m",
      "\u001b[1;31mAttributeError\u001b[0m                            Traceback (most recent call last)",
      "\u001b[1;32m<ipython-input-78-56a0821b95e0>\u001b[0m in \u001b[0;36m<module>\u001b[1;34m()\u001b[0m\n\u001b[0;32m      1\u001b[0m \u001b[1;32mfor\u001b[0m \u001b[0mi\u001b[0m \u001b[1;32min\u001b[0m \u001b[0mrange\u001b[0m\u001b[1;33m(\u001b[0m\u001b[1;36m0\u001b[0m\u001b[1;33m,\u001b[0m\u001b[1;33m(\u001b[0m\u001b[0mlen\u001b[0m\u001b[1;33m(\u001b[0m\u001b[0mdf\u001b[0m\u001b[1;33m.\u001b[0m\u001b[0mindex\u001b[0m\u001b[1;33m)\u001b[0m\u001b[1;33m-\u001b[0m\u001b[1;36m1\u001b[0m\u001b[1;33m)\u001b[0m\u001b[1;33m)\u001b[0m\u001b[1;33m:\u001b[0m\u001b[1;33m\u001b[0m\u001b[0m\n\u001b[0;32m      2\u001b[0m     \u001b[0mabstract\u001b[0m \u001b[1;33m=\u001b[0m \u001b[0mdf\u001b[0m\u001b[1;33m.\u001b[0m\u001b[0miat\u001b[0m\u001b[1;33m[\u001b[0m\u001b[0mi\u001b[0m\u001b[1;33m,\u001b[0m\u001b[1;36m0\u001b[0m\u001b[1;33m]\u001b[0m\u001b[1;33m\u001b[0m\u001b[0m\n\u001b[1;32m----> 3\u001b[1;33m     \u001b[0mstart_index\u001b[0m \u001b[1;33m=\u001b[0m \u001b[0mabstract\u001b[0m\u001b[1;33m.\u001b[0m\u001b[0mfind\u001b[0m\u001b[1;33m(\u001b[0m\u001b[1;34m\"https://github.com\"\u001b[0m\u001b[1;33m)\u001b[0m\u001b[1;33m\u001b[0m\u001b[0m\n\u001b[0m\u001b[0;32m      4\u001b[0m     \u001b[0murl_to_end\u001b[0m \u001b[1;33m=\u001b[0m \u001b[0mabstract\u001b[0m\u001b[1;33m[\u001b[0m\u001b[0mstart_index\u001b[0m\u001b[1;33m:\u001b[0m\u001b[1;33m]\u001b[0m\u001b[1;33m\u001b[0m\u001b[0m\n\u001b[0;32m      5\u001b[0m     \u001b[0mspace_index\u001b[0m \u001b[1;33m=\u001b[0m \u001b[0murl_to_end\u001b[0m\u001b[1;33m.\u001b[0m\u001b[0mfind\u001b[0m\u001b[1;33m(\u001b[0m\u001b[1;34m\" \"\u001b[0m\u001b[1;33m)\u001b[0m\u001b[1;33m\u001b[0m\u001b[0m\n",
      "\u001b[1;31mAttributeError\u001b[0m: 'NoneType' object has no attribute 'find'"
     ]
    }
   ],
   "source": [
    "for i in range(0,(len(df.index)-1)):             \n",
    "    abstract = df.iat[i,0]\n",
    "    start_index = abstract.find(\"https://github.com\")\n",
    "    url_to_end = abstract[start_index:]\n",
    "    space_index = url_to_end.find(\" \")\n",
    "    github_url = url_to_end[:space_index]\n",
    "    df.iat[i,4] = github_url"
   ]
  },
  {
   "cell_type": "code",
   "execution_count": 79,
   "metadata": {
    "collapsed": false
   },
   "outputs": [
    {
     "data": {
      "text/plain": [
       "79"
      ]
     },
     "execution_count": 79,
     "metadata": {},
     "output_type": "execute_result"
    }
   ],
   "source": [
    "i"
   ]
  },
  {
   "cell_type": "code",
   "execution_count": 73,
   "metadata": {
    "collapsed": false
   },
   "outputs": [],
   "source": []
  },
  {
   "cell_type": "code",
   "execution_count": 70,
   "metadata": {
    "collapsed": false
   },
   "outputs": [
    {
     "data": {
      "text/plain": [
       "'https://github.com/BioprocessdesignLab/COSMOS'"
      ]
     },
     "execution_count": 70,
     "metadata": {},
     "output_type": "execute_result"
    }
   ],
   "source": []
  },
  {
   "cell_type": "code",
   "execution_count": 74,
   "metadata": {
    "collapsed": false
   },
   "outputs": [
    {
     "data": {
      "text/plain": [
       "'https://github.com/BioprocessdesignLab/COSMOS'"
      ]
     },
     "execution_count": 74,
     "metadata": {},
     "output_type": "execute_result"
    }
   ],
   "source": []
  },
  {
   "cell_type": "code",
   "execution_count": 80,
   "metadata": {
    "collapsed": false
   },
   "outputs": [
    {
     "data": {
      "text/html": [
       "<div style=\"max-height:1000px;max-width:1500px;overflow:auto;\">\n",
       "<table border=\"1\" class=\"dataframe\">\n",
       "  <thead>\n",
       "    <tr style=\"text-align: right;\">\n",
       "      <th></th>\n",
       "      <th>Abstract</th>\n",
       "      <th>Authors</th>\n",
       "      <th>Date</th>\n",
       "      <th>Journal</th>\n",
       "      <th>Url</th>\n",
       "    </tr>\n",
       "  </thead>\n",
       "  <tbody>\n",
       "    <tr>\n",
       "      <th>26357045</th>\n",
       "      <td> Stability and sensitivity analyses of biologic...</td>\n",
       "      <td> [(Shiraishi, Fumihide), (Yoshida, Erika), (Voi...</td>\n",
       "      <td> 2015-09-11</td>\n",
       "      <td> IEEE/ACM Trans Comput Biol Bioinform</td>\n",
       "      <td> https://github.com/BioprocessdesignLab/COSMOS</td>\n",
       "    </tr>\n",
       "    <tr>\n",
       "      <th>25601296</th>\n",
       "      <td> Most electronic data capture (EDC) and electro...</td>\n",
       "      <td>        [(Dixit, Abhishek), (Dobson, Richard J B)]</td>\n",
       "      <td> 2015-01-20</td>\n",
       "      <td>                      JMIR Med Inform</td>\n",
       "      <td>                                              </td>\n",
       "    </tr>\n",
       "    <tr>\n",
       "      <th>25558360</th>\n",
       "      <td> Remotely sensed data - available at medium to ...</td>\n",
       "      <td> [(Tuck, Sean L), (Phillips, Helen Rp), (Hintze...</td>\n",
       "      <td> 2015-01-05</td>\n",
       "      <td>                            Ecol Evol</td>\n",
       "      <td>     https://github.com/seantuck12/MODISTools)</td>\n",
       "    </tr>\n",
       "    <tr>\n",
       "      <th>25553811</th>\n",
       "      <td> Whole-genome bisulfite sequencing (WGBS) is an...</td>\n",
       "      <td> [(Chen, Junfang), (Lutsik, Pavlo), (Akulenko, ...</td>\n",
       "      <td> 2015-01-02</td>\n",
       "      <td>              J Bioinform Comput Biol</td>\n",
       "      <td>           https://github.com/Junfang/AKSmooth</td>\n",
       "    </tr>\n",
       "    <tr>\n",
       "      <th>25549775</th>\n",
       "      <td> A number of computational approaches have been...</td>\n",
       "      <td> [(Manini, Simone), (Antiga, Luca), (Botti, Lor...</td>\n",
       "      <td> 2015-06-09</td>\n",
       "      <td>                       Ann Biomed Eng</td>\n",
       "      <td>                                              </td>\n",
       "    </tr>\n",
       "  </tbody>\n",
       "</table>\n",
       "</div>"
      ],
      "text/plain": [
       "                                                   Abstract  \\\n",
       "26357045  Stability and sensitivity analyses of biologic...   \n",
       "25601296  Most electronic data capture (EDC) and electro...   \n",
       "25558360  Remotely sensed data - available at medium to ...   \n",
       "25553811  Whole-genome bisulfite sequencing (WGBS) is an...   \n",
       "25549775  A number of computational approaches have been...   \n",
       "\n",
       "                                                    Authors        Date  \\\n",
       "26357045  [(Shiraishi, Fumihide), (Yoshida, Erika), (Voi...  2015-09-11   \n",
       "25601296         [(Dixit, Abhishek), (Dobson, Richard J B)]  2015-01-20   \n",
       "25558360  [(Tuck, Sean L), (Phillips, Helen Rp), (Hintze...  2015-01-05   \n",
       "25553811  [(Chen, Junfang), (Lutsik, Pavlo), (Akulenko, ...  2015-01-02   \n",
       "25549775  [(Manini, Simone), (Antiga, Luca), (Botti, Lor...  2015-06-09   \n",
       "\n",
       "                                       Journal  \\\n",
       "26357045  IEEE/ACM Trans Comput Biol Bioinform   \n",
       "25601296                       JMIR Med Inform   \n",
       "25558360                             Ecol Evol   \n",
       "25553811               J Bioinform Comput Biol   \n",
       "25549775                        Ann Biomed Eng   \n",
       "\n",
       "                                                    Url  \n",
       "26357045  https://github.com/BioprocessdesignLab/COSMOS  \n",
       "25601296                                                 \n",
       "25558360      https://github.com/seantuck12/MODISTools)  \n",
       "25553811            https://github.com/Junfang/AKSmooth  \n",
       "25549775                                                 "
      ]
     },
     "execution_count": 80,
     "metadata": {},
     "output_type": "execute_result"
    }
   ],
   "source": [
    "df.head()"
   ]
  },
  {
   "cell_type": "code",
   "execution_count": null,
   "metadata": {
    "collapsed": false
   },
   "outputs": [],
   "source": []
  }
 ],
 "metadata": {
  "kernelspec": {
   "display_name": "Python 2",
   "language": "python",
   "name": "python2"
  },
  "language_info": {
   "codemirror_mode": {
    "name": "ipython",
    "version": 2
   },
   "file_extension": ".py",
   "mimetype": "text/x-python",
   "name": "python",
   "nbconvert_exporter": "python",
   "pygments_lexer": "ipython2",
   "version": "2.7.10"
  }
 },
 "nbformat": 4,
 "nbformat_minor": 0
}
