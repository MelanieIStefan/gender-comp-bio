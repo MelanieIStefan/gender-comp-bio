{
 "cells": [
  {
   "cell_type": "markdown",
   "metadata": {},
   "source": [
    "# Parsing Pubmed XML file\n",
    "\n",
    "Data sets can be found [here](https://github.com/kescobo/gender-comp-bio/tree/master/data).\n",
    "\n",
    "## Goals\n",
    "\n",
    "Raw data from pubmed is contained in xml files, and we'd like to extract author and date information into a spreadsheet for easier analysis. \n",
    "\n",
    "The first thing to do is to make sure to set the working directory to where the data is."
   ]
  },
  {
   "cell_type": "code",
   "execution_count": 35,
   "metadata": {},
   "outputs": [
    {
     "name": "stdout",
     "output_type": "stream",
     "text": [
      "/Users/KBLaptop/computation/gender-comp-bio/data\n"
     ]
    }
   ],
   "source": [
    "import os\n",
    "\n",
    "print(os.getcwd())"
   ]
  },
  {
   "cell_type": "code",
   "execution_count": 36,
   "metadata": {},
   "outputs": [
    {
     "data": {
      "text/plain": [
       "['.DS_Store',\n 'biology-1997-2014.xml',\n 'comp-bio-1997-2014.xml',\n 'github_pubs.xml',\n 'README.md']"
      ]
     },
     "execution_count": 36,
     "output_type": "execute_result",
     "metadata": {}
    }
   ],
   "source": [
    "os.chdir(\"../data/\")\n",
    "os.listdir()"
   ]
  },
  {
   "cell_type": "markdown",
   "metadata": {},
   "source": [
    "Next, we'll need to parse the xml files. We can do this using the built-in [python xml module](https://docs.python.org/3.5/library/xml.etree.elementtree.html). "
   ]
  },
  {
   "cell_type": "code",
   "execution_count": 39,
   "metadata": {},
   "outputs": [],
   "source": [
    "import xml.etree.ElementTree as ET\n",
    "import datetime\n",
    "\n",
    "xml_handle = ET.parse('github_pubs.xml')\n",
    "root = xml_handle.getroot()\n",
    "\n",
    "for Citation in root.iter(\"MedlineCitation\"):\n",
    "    pmid = Citation[0].text\n",
    "    pubdate = datetime.date(\n",
    "        int(Citation[1][0].text),  # year\n",
    "        int(Citation[1][1].text),  # month\n",
    "        int(Citation[1][2].text)  # day\n",
    "        )\n",
    "    \n",
    "    Journal = next(Citation.iter(\"Journal\"))\n",
    "\n",
    "    journal_title = Journal.find(\"ISOAbbreviation\").text\n",
    "    \n",
    "    abstract = next(Citation.iter(\"AbstractText\")).text\n",
    "    \n",
    "    # some articles don't have author fields - ignoring those\n",
    "    try:\n",
    "        authors = [{\n",
    "                \"Last\": Author.find(\"LastName\").text,\n",
    "                \"First\": Author.find(\"ForeName\").text\n",
    "                   } for Author in Citation.iter(\"Author\")]\n",
    "    except:\n",
    "        continue\n",
    "    \n",
    "    print(\"PMID: {}\\nJournal: {}\\nAuthors: {}\\n\".format(\n",
    "        pmid, journal_title, [(x['Last'], x['First']) for x in authors]))"
   ]
  },
  {
   "cell_type": "markdown",
   "metadata": {},
   "source": [
    "### Class Definition\n",
    "\n",
    "Just because I need the practice, I'm going to set up an `Article` class to hold the data and make working with it easier"
   ]
  },
  {
   "cell_type": "code",
   "execution_count": 40,
   "metadata": {},
   "outputs": [],
   "source": [
    "class Article(object):\n",
    "    \"\"\"Container for publication info\"\"\"\n",
    "    def __init__(self, pmid, pubdate, journal, title, abstract, authors):\n",
    "        self.pmid = pmid\n",
    "        self.pubdate = pubdate\n",
    "        self.journal = journal\n",
    "        self.title = title\n",
    "        self.abstract = abstract\n",
    "        self.authors = authors\n",
    "    def __repr__(self):\n",
    "        return \"<Article PMID: {}>\".format(self.pmid)\n",
    "\n",
    "    def get_authors(self):\n",
    "        for author in self.authors:\n",
    "            yield author[\"Last\"], author[\"First\"]"
   ]
  },
  {
   "cell_type": "markdown",
   "metadata": {},
   "source": [
    "### Generator Function\n",
    "\n",
    "And... we can turn the code above into a generator function that yields an `Article` for each document"
   ]
  },
  {
   "cell_type": "code",
   "execution_count": 41,
   "metadata": {},
   "outputs": [],
   "source": [
    "def parse_pubmed_xml(xml_file):\n",
    "    xml_handle = ET.parse(xml_file)\n",
    "    root = xml_handle.getroot()\n",
    "\n",
    "    for Citation in root.iter(\"MedlineCitation\"):\n",
    "        pmid = Citation[0].text\n",
    "        pubdate = datetime.date(\n",
    "            int(Citation[1][0].text),  # year\n",
    "            int(Citation[1][1].text),  # month\n",
    "            int(Citation[1][2].text)  # day\n",
    "            )\n",
    "        \n",
    "        Journal = next(Citation.iter(\"Journal\"))\n",
    "\n",
    "        journal_title = Journal.find(\"ISOAbbreviation\").text\n",
    "        article_title = next(Citation.iter(\"ArticleTitle\")).text\n",
    "        \n",
    "        abstract = next(Citation.iter(\"AbstractText\")).text\n",
    "        try:\n",
    "            authors = [{\n",
    "                \"Last\": Author.find(\"LastName\").text,\n",
    "                \"First\": Author.find(\"ForeName\").text\n",
    "                   } for Author in Citation.iter(\"Author\")]\n",
    "        except:\n",
    "           continue\n",
    "        \n",
    "        yield Article(pmid, pubdate, journal_title, article_title, abstract, authors)"
   ]
  },
  {
   "cell_type": "markdown",
   "metadata": {},
   "source": [
    "Usage:"
   ]
  },
  {
   "cell_type": "code",
   "execution_count": 46,
   "metadata": {},
   "outputs": [],
   "source": [
    "for article in parse_pubmed_xml('github_pubs.xml'):\n",
    "    print(article)\n",
    "    print(article.pubdate)\n",
    "    for last, first in article.get_authors():\n",
    "        print(\"{}, {}\".format(last, first))\n",
    "    print()"
   ]
  },
  {
   "cell_type": "markdown",
   "metadata": {},
   "source": [
    "### DataFrame generation\n",
    "\n",
    "In order to get the data into a usable spreadsheet-like form, and for later analysis, I'm going to use the `DataFrame`s from the [pandas](http://pandas.pydata.org/) package. This might be overkill, but I know how to use it (sort of). "
   ]
  },
  {
   "cell_type": "code",
   "execution_count": 43,
   "metadata": {},
   "outputs": [
    {
     "name": "stdout",
     "output_type": "stream",
     "text": [
      "                                                    Authors        Date  \\\n26357045  [(Shiraishi, Fumihide), (Yoshida, Erika), (Voi...  2015-09-11   \n25601296         [(Dixit, Abhishek), (Dobson, Richard J B)]  2015-01-20   \n25558360  [(Tuck, Sean L), (Phillips, Helen Rp), (Hintze...  2015-01-05   \n25553811  [(Chen, Junfang), (Lutsik, Pavlo), (Akulenko, ...  2015-01-02   \n25549775  [(Manini, Simone), (Antiga, Luca), (Botti, Lor...  2015-06-09   \n25543048  [(Bouvier, Guillaume), (Desdouits, Nathan), (F...  2015-04-28   \n25540185                                [(Meinicke, Peter)]  2015-04-28   \n25527832  [(Lindberg, Michael R), (Hall, Ira M), (Quinla...  2015-04-12   \n25526884  [(Barton, Carl), (Heliou, Alice), (Mouchard, L...  2015-04-27   \n25524895  [(Mu, John C), (Mohiyuddin, Marghoob), (Li, Ji...  2015-04-28   \n25521965  [(Wu, Chengkun), (Schwartz, Jean-Marc), (Braba...  2014-12-19   \n25520192               [(Gardner, Paul P), (Eldai, Hisham)]  2015-01-24   \n25514851  [(Anvar, Seyed Yahya), (Khachatryan, Lusine), ...  2015-02-06   \n25505094  [(Bliven, Spencer E), (Bourne, Philip E), (Prl...  2015-04-12   \n25505087  [(Völkel, Gunnar), (Lausser, Ludwig), (Schmid,...  2015-04-12   \n25505086  [(Navarro-Gomez, Daniel), (Leipzig, Jeremy), (...  2015-04-12   \n25504847  [(Haubold, Bernhard), (Klötzl, Fabian), (Pfaff...  2015-04-12   \n25481009  [(Hussan, Jagir R), (Hunter, Peter J), (Gladdi...  2015-04-12   \n25481007       [(Wintersinger, Jeff A), (Wasmuth, James D)]  2015-04-12   \n25480375  [(Harvey, Chris T), (Moyerbrailean, Gregory A)...  2015-04-12   \n25474353  [(Gavryushkina, Alexandra), (Welch, David), (S...  2014-12-05   \n25461763  [(Zhu, Xiao), (Leung, Henry C M), (Chin, Franc...  2014-12-03   \n25452688  [(Lee, Wan-Ping), (Wu, Jiantao), (Marth, Gabor...  2014-12-02   \n25435543  [(Sheng, Quanhu), (Li, Rongxia), (Dai, Jie), (...  2015-01-31   \n25431162  [(Warnecke, Andreas), (Sandalova, Tatyana), (A...  2015-04-27   \n25428347  [(Diaz, Aaron A), (Qin, Han), (Ramalho-Santos,...  2015-02-18   \n25422674  [(Inouye, Michael), (Dashnow, Harriet), (Raven...  2014-11-25   \n25414364  [(Hirsh, Layla), (Piovesan, Damiano), (Giollo,...  2015-04-03   \n25414349  [(Croucher, Nicholas J), (Page, Andrew J), (Co...  2015-02-18   \n25410596  [(Treangen, Todd J), (Ondov, Brian D), (Koren,...  2015-01-07   \n...                                                     ...         ...   \n22238257  [(Hentrich, Thomas), (Schulze, Julia M), (Embe...  2012-03-01   \n22235263  [(Peltola, Tomi), (Marttinen, Pekka), (Jula, A...  2012-01-11   \n22215819                     [(Mørk, Søren), (Holmes, Ian)]  2012-03-01   \n25328913  [(Fenwick, Matthew), (Sesanker, Colbert), (Sch...  2014-10-20   \n22151646  [(Lv, Jie), (Havlak, Paul), (Putnam, Nicholas H)]  2011-12-13   \n22080292                                [(Langer, Steve G)]  2012-03-07   \n22017798  [(Pinello, Luca), (Lo Bosco, Giosuè), (Hanlon,...  2012-01-06   \n21994228  [(Riba-Grognuz, Oksana), (Keller, Laurent), (F...  2011-12-13   \n21911333  [(Bielejec, Filip), (Rambaut, Andrew), (Suchar...  2011-10-06   \n21899774  [(Mishima, Hiroyuki), (Sasaki, Kensaku), (Tana...  2011-09-29   \n21824426  [(Jethava, Vinay), (Bhattacharyya, Chiranjib),...  2011-09-12   \n21724594  [(Pedersen, Brent), (Hsieh, Tzung-Fu), (Ibarra...  2011-08-19   \n21685055  [(Bolouri, Hamid), (Dulepet, Rajiv), (Angerman...  2011-08-05   \n21685051  [(Xin, Yurong), (Ge, Yongchao), (Haghighi, Fat...  2011-08-05   \n21635747  [(Blanca, Jose M), (Pascual, Laura), (Ziarsolo...  2011-06-28   \n21595876  [(Miller, Christopher S), (Baker, Brett J), (T...  2011-10-20   \n21529350  [(Oshita, Kazuki), (Arakawa, Kazuharu), (Tomit...  2011-05-26   \n21501495  [(Tang, Haibao), (Lyons, Eric), (Pedersen, Bre...  2011-05-09   \n21493652  [(Barnett, Derek W), (Garrison, Erik K), (Quin...  2011-06-03   \n21478170  [(Gardner, Paul P), (Barquist, Lars), (Bateman...  2011-08-09   \n21357752  [(Washietl, Stefan), (Findeiss, Sven), (Müller...  2011-03-22   \n21296748  [(Pedersen, Brent S), (Tang, Haibao), (Freelin...  2011-03-30   \n21169373  [(Gostev, Mikhail), (Fernandez-Banet, Julio), ...  2011-02-10   \n21124986  [(Miller, Andrew K), (Print, Cristin G), (Niel...  2010-12-02   \n20935049  [(Bombarely, Aureliano), (Menda, Naama), (Tecl...  2010-12-23   \n20798169  [(Goll, Johannes), (Rusch, Douglas B), (Tanenb...  2010-10-08   \n20562450          [(Kondrashov, Alexey S), (Assis, Raquel)]  2010-08-06   \n20529912  [(Vaske, Charles J), (Benz, Stephen C), (Sanbo...  2010-06-09   \n20421198              [(Sukumaran, Jeet), (Holder, Mark T)]  2010-06-09   \n20106815  [(Piipari, Matias), (Down, Thomas A), (Saini, ...  2010-03-08   \n\n                                       Journal  \n26357045  IEEE/ACM Trans Comput Biol Bioinform  \n25601296                       JMIR Med Inform  \n25558360                             Ecol Evol  \n25553811               J Bioinform Comput Biol  \n25549775                        Ann Biomed Eng  \n25543048                        Bioinformatics  \n25540185                        Bioinformatics  \n25527832                        Bioinformatics  \n25526884                    BMC Bioinformatics  \n25524895                        Bioinformatics  \n25521965                      BMC Med Genomics  \n25520192                    Nucleic Acids Res.  \n25514851                          Genome Biol.  \n25505094                        Bioinformatics  \n25505087                        Bioinformatics  \n25505086                        Bioinformatics  \n25504847                        Bioinformatics  \n25481009                        Bioinformatics  \n25481007                        Bioinformatics  \n25480375                        Bioinformatics  \n25474353                    PLoS Comput. Biol.  \n25461763                              PLoS ONE  \n25452688                         Cancer Inform  \n25435543                  Mol. Cell Proteomics  \n25431162                    BMC Bioinformatics  \n25428347                    Nucleic Acids Res.  \n25422674                            Genome Med  \n25414364                        Bioinformatics  \n25414349                    Nucleic Acids Res.  \n25410596                          Genome Biol.  \n...                                        ...  \n22238257                        Bioinformatics  \n22235263                              PLoS ONE  \n22215819                        Bioinformatics  \n25328913   Proc Int Conf Inf Technol New Gener  \n22151646                    BMC Bioinformatics  \n22080292                       J Digit Imaging  \n22017798                    BMC Bioinformatics  \n21994228                        Bioinformatics  \n21911333                        Bioinformatics  \n21899774                         BMC Res Notes  \n21824426                    BMC Bioinformatics  \n21724594                        Bioinformatics  \n21685055                        Bioinformatics  \n21685051                        Bioinformatics  \n21635747                          BMC Genomics  \n21595876                          Genome Biol.  \n21529350                  Source Code Biol Med  \n21501495                    BMC Bioinformatics  \n21493652                        Bioinformatics  \n21478170                    Nucleic Acids Res.  \n21357752                                   RNA  \n21296748                        Bioinformatics  \n21169373                        Bioinformatics  \n21124986                              PLoS ONE  \n20935049                    Nucleic Acids Res.  \n20798169                        Bioinformatics  \n20562450                        Bioinformatics  \n20529912                        Bioinformatics  \n20421198                        Bioinformatics  \n20106815                        Bioinformatics  \n\n[402 rows x 3 columns]\n"
     ]
    }
   ],
   "source": [
    "import pandas as pd\n",
    "\n",
    "col_names = [\"Date\", \"Journal\", \"Authors\"]\n",
    "\n",
    "df = pd.DataFrame()\n",
    "col_names = [\"Date\", \"Journal\", \"Authors\"]\n",
    "\n",
    "for article in parse_pubmed_xml('github_pubs.xml'):\n",
    "    row = pd.Series([article.pubdate, article.journal, [(author[0], author[1]) for author in article.get_authors()]],\n",
    "                    name=article.pmid, index=col_names)\n",
    "    df = df.append(row)\n",
    "\n",
    "print(df)"
   ]
  },
  {
   "cell_type": "markdown",
   "metadata": {},
   "source": [
    "### Getting Author Order\n",
    "\n",
    "Author position matters, but it matters in sort of a weird way - first author and last author are most important, then decreasing as you work your way in to the middle of the list. But practically, there's not much distinction between 3rd and 4th author (or 3rd from last and 4th from last), so we'll generate scores for first, second, last, penultimate and everyone else. The trick is to avoid index errors if the author list is smaller than 5, so we need to write up some special cases. "
   ]
  },
  {
   "cell_type": "code",
   "execution_count": 46,
   "metadata": {},
   "outputs": [],
   "source": [
    "def score_short(author_list):\n",
    "    first = author_list[0]\n",
    "    \n",
    "    if len(author_list) == 4:\n",
    "        second = author_list[1]\n",
    "        last = author_list[3]\n",
    "        penultimate = author_list[2]\n",
    "    elif len(author_list) == 3:\n",
    "        last = author_list[2]\n",
    "        penultimate = author_list[1]\n",
    "    elif len(author_list) == 2:\n",
    "        last = author_list[1]\n",
    "        \n",
    "\n",
    "def score_authors(author_list):\n",
    "    if len(author_list) < 5:\n",
    "        score_short(author_list)\n",
    "    else:\n",
    "        first = author_list[0]\n",
    "        second = author_list[1]\n",
    "        last = author_list[-1]\n",
    "        penultimate = author_list[-2]\n",
    "        others = [author for author in author_list[2:-2]]"
   ]
  },
  {
   "cell_type": "code",
   "execution_count": 47,
   "metadata": {},
   "outputs": [],
   "source": [
    "for authors in df[\"Authors\"]:\n",
    "    score_authors(authors)"
   ]
  },
  {
   "cell_type": "code",
   "execution_count": null,
   "metadata": {},
   "outputs": [],
   "source": [
    ""
   ]
  }
 ],
 "metadata": {
  "kernelspec": {
   "display_name": "Python 3",
   "language": "python",
   "name": "python3"
  },
  "language_info": {
   "codemirror_mode": {
    "name": "ipython",
    "version": 3.0
   },
   "file_extension": ".py",
   "mimetype": "text/x-python",
   "name": "python",
   "nbconvert_exporter": "python",
   "pygments_lexer": "ipython3",
   "version": "3.5.1"
  }
 },
 "nbformat": 4,
 "nbformat_minor": 0
}