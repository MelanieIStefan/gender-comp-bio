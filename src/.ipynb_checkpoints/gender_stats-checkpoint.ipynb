{
 "cells": [
  {
   "cell_type": "markdown",
   "metadata": {},
   "source": [
    "## Gender Stats\n",
    "\n",
    "Now that we've got our author data set and inferences for genders, it's time to do some exploratory data analysis. I'm going to do this in [julia](http://julialang.org). I made two functions - `importauthors()` and `getgenderprob()` that take the csv fils from `write_names_to_file` found in [xml parsing](xml_parsing.py) and create julia `DataFrames`."
   ]
  },
  {
   "cell_type": "code",
   "execution_count": 5,
   "metadata": {
    "collapsed": false
   },
   "outputs": [
    {
     "data": {
      "text/plain": [
       "getgenderprob (generic function with 1 method)"
      ]
     },
     "execution_count": 5,
     "metadata": {},
     "output_type": "execute_result"
    }
   ],
   "source": [
    "include(\"dataimport.jl\")"
   ]
  },
  {
   "cell_type": "code",
   "execution_count": 6,
   "metadata": {
    "collapsed": false
   },
   "outputs": [
    {
     "data": {
      "text/html": [
       "<table class=\"data-frame\"><tr><th></th><th>PMID</th><th>Date</th><th>Journal</th><th>Author_Name</th><th>Position</th><th>Dataset</th></tr><tr><th>1</th><td>26357045</td><td>2015-09-11</td><td>IEEE/ACM Trans Comput Biol Bioinform</td><td>Fumihide</td><td>first</td><td>git</td></tr><tr><th>2</th><td>26357045</td><td>2015-09-11</td><td>IEEE/ACM Trans Comput Biol Bioinform</td><td>Eberhard</td><td>last</td><td>git</td></tr><tr><th>3</th><td>26357045</td><td>2015-09-11</td><td>IEEE/ACM Trans Comput Biol Bioinform</td><td>Erika</td><td>second</td><td>git</td></tr><tr><th>4</th><td>25601296</td><td>2015-01-20</td><td>JMIR Med Inform</td><td>Abhishek</td><td>first</td><td>git</td></tr><tr><th>5</th><td>25601296</td><td>2015-01-20</td><td>JMIR Med Inform</td><td>Richard</td><td>last</td><td>git</td></tr><tr><th>6</th><td>25558360</td><td>2015-01-05</td><td>Ecol Evol</td><td>Sean</td><td>first</td><td>git</td></tr><tr><th>7</th><td>25558360</td><td>2015-01-05</td><td>Ecol Evol</td><td>Lawrence</td><td>last</td><td>git</td></tr><tr><th>8</th><td>25558360</td><td>2015-01-05</td><td>Ecol Evol</td><td>Helen</td><td>second</td><td>git</td></tr><tr><th>9</th><td>25558360</td><td>2015-01-05</td><td>Ecol Evol</td><td>Andy</td><td>penultimate</td><td>git</td></tr><tr><th>10</th><td>25558360</td><td>2015-01-05</td><td>Ecol Evol</td><td>Rogier</td><td>other</td><td>git</td></tr><tr><th>11</th><td>25558360</td><td>2015-01-05</td><td>Ecol Evol</td><td>Jörn</td><td>other</td><td>git</td></tr><tr><th>12</th><td>25553811</td><td>2015-01-02</td><td>J Bioinform Comput Biol</td><td>Junfang</td><td>first</td><td>git</td></tr><tr><th>13</th><td>25553811</td><td>2015-01-02</td><td>J Bioinform Comput Biol</td><td>Volkhard</td><td>last</td><td>git</td></tr><tr><th>14</th><td>25553811</td><td>2015-01-02</td><td>J Bioinform Comput Biol</td><td>Pavlo</td><td>second</td><td>git</td></tr><tr><th>15</th><td>25553811</td><td>2015-01-02</td><td>J Bioinform Comput Biol</td><td>Jörn</td><td>penultimate</td><td>git</td></tr><tr><th>16</th><td>25553811</td><td>2015-01-02</td><td>J Bioinform Comput Biol</td><td>Ruslan</td><td>other</td><td>git</td></tr><tr><th>17</th><td>25549775</td><td>2015-06-09</td><td>Ann Biomed Eng</td><td>Simone</td><td>first</td><td>git</td></tr><tr><th>18</th><td>25549775</td><td>2015-06-09</td><td>Ann Biomed Eng</td><td>Andrea</td><td>last</td><td>git</td></tr><tr><th>19</th><td>25549775</td><td>2015-06-09</td><td>Ann Biomed Eng</td><td>Luca</td><td>second</td><td>git</td></tr><tr><th>20</th><td>25549775</td><td>2015-06-09</td><td>Ann Biomed Eng</td><td>Lorenzo</td><td>penultimate</td><td>git</td></tr><tr><th>21</th><td>25543048</td><td>2015-04-28</td><td>Bioinformatics</td><td>Guillaume</td><td>first</td><td>git</td></tr><tr><th>22</th><td>25543048</td><td>2015-04-28</td><td>Bioinformatics</td><td>Michael</td><td>last</td><td>git</td></tr><tr><th>23</th><td>25543048</td><td>2015-04-28</td><td>Bioinformatics</td><td>Nathan</td><td>second</td><td>git</td></tr><tr><th>24</th><td>25543048</td><td>2015-04-28</td><td>Bioinformatics</td><td>Arnaud</td><td>penultimate</td><td>git</td></tr><tr><th>25</th><td>25543048</td><td>2015-04-28</td><td>Bioinformatics</td><td>Mathias</td><td>other</td><td>git</td></tr><tr><th>26</th><td>25540185</td><td>2015-04-28</td><td>Bioinformatics</td><td>Peter</td><td>first</td><td>git</td></tr><tr><th>27</th><td>25527832</td><td>2015-04-12</td><td>Bioinformatics</td><td>Michael</td><td>first</td><td>git</td></tr><tr><th>28</th><td>25527832</td><td>2015-04-12</td><td>Bioinformatics</td><td>Aaron</td><td>last</td><td>git</td></tr><tr><th>29</th><td>25527832</td><td>2015-04-12</td><td>Bioinformatics</td><td>Ira</td><td>second</td><td>git</td></tr><tr><th>30</th><td>25526884</td><td>2015-04-27</td><td>BMC Bioinformatics</td><td>Carl</td><td>first</td><td>git</td></tr><tr><th>&vellip;</th><td>&vellip;</td><td>&vellip;</td><td>&vellip;</td><td>&vellip;</td><td>&vellip;</td><td>&vellip;</td></tr></table>"
      ],
      "text/plain": [
       "1995×6 DataFrames.DataFrame\n",
       "│ Row  │ PMID     │ Date       │ Journal                                │\n",
       "├──────┼──────────┼────────────┼────────────────────────────────────────┤\n",
       "│ 1    │ 26357045 │ 2015-09-11 │ \"IEEE/ACM Trans Comput Biol Bioinform\" │\n",
       "│ 2    │ 26357045 │ 2015-09-11 │ \"IEEE/ACM Trans Comput Biol Bioinform\" │\n",
       "│ 3    │ 26357045 │ 2015-09-11 │ \"IEEE/ACM Trans Comput Biol Bioinform\" │\n",
       "│ 4    │ 25601296 │ 2015-01-20 │ \"JMIR Med Inform\"                      │\n",
       "│ 5    │ 25601296 │ 2015-01-20 │ \"JMIR Med Inform\"                      │\n",
       "│ 6    │ 25558360 │ 2015-01-05 │ \"Ecol Evol\"                            │\n",
       "│ 7    │ 25558360 │ 2015-01-05 │ \"Ecol Evol\"                            │\n",
       "│ 8    │ 25558360 │ 2015-01-05 │ \"Ecol Evol\"                            │\n",
       "│ 9    │ 25558360 │ 2015-01-05 │ \"Ecol Evol\"                            │\n",
       "│ 10   │ 25558360 │ 2015-01-05 │ \"Ecol Evol\"                            │\n",
       "│ 11   │ 25558360 │ 2015-01-05 │ \"Ecol Evol\"                            │\n",
       "⋮\n",
       "│ 1984 │ 20529912 │ 2010-06-09 │ \"Bioinformatics\"                       │\n",
       "│ 1985 │ 20529912 │ 2010-06-09 │ \"Bioinformatics\"                       │\n",
       "│ 1986 │ 20529912 │ 2010-06-09 │ \"Bioinformatics\"                       │\n",
       "│ 1987 │ 20529912 │ 2010-06-09 │ \"Bioinformatics\"                       │\n",
       "│ 1988 │ 20529912 │ 2010-06-09 │ \"Bioinformatics\"                       │\n",
       "│ 1989 │ 20421198 │ 2010-06-09 │ \"Bioinformatics\"                       │\n",
       "│ 1990 │ 20421198 │ 2010-06-09 │ \"Bioinformatics\"                       │\n",
       "│ 1991 │ 20106815 │ 2010-03-08 │ \"Bioinformatics\"                       │\n",
       "│ 1992 │ 20106815 │ 2010-03-08 │ \"Bioinformatics\"                       │\n",
       "│ 1993 │ 20106815 │ 2010-03-08 │ \"Bioinformatics\"                       │\n",
       "│ 1994 │ 20106815 │ 2010-03-08 │ \"Bioinformatics\"                       │\n",
       "│ 1995 │ 20106815 │ 2010-03-08 │ \"Bioinformatics\"                       │\n",
       "\n",
       "│ Row  │ Author_Name   │ Position      │ Dataset │\n",
       "├──────┼───────────────┼───────────────┼─────────┤\n",
       "│ 1    │ \"Fumihide\"    │ \"first\"       │ \"git\"   │\n",
       "│ 2    │ \"Eberhard\"    │ \"last\"        │ \"git\"   │\n",
       "│ 3    │ \"Erika\"       │ \"second\"      │ \"git\"   │\n",
       "│ 4    │ \"Abhishek\"    │ \"first\"       │ \"git\"   │\n",
       "│ 5    │ \"Richard\"     │ \"last\"        │ \"git\"   │\n",
       "│ 6    │ \"Sean\"        │ \"first\"       │ \"git\"   │\n",
       "│ 7    │ \"Lawrence\"    │ \"last\"        │ \"git\"   │\n",
       "│ 8    │ \"Helen\"       │ \"second\"      │ \"git\"   │\n",
       "│ 9    │ \"Andy\"        │ \"penultimate\" │ \"git\"   │\n",
       "│ 10   │ \"Rogier\"      │ \"other\"       │ \"git\"   │\n",
       "│ 11   │ \"Jörn\"        │ \"other\"       │ \"git\"   │\n",
       "⋮\n",
       "│ 1984 │ \"David\"       │ \"penultimate\" │ \"git\"   │\n",
       "│ 1985 │ \"J\"           │ \"other\"       │ \"git\"   │\n",
       "│ 1986 │ \"Dent\"        │ \"other\"       │ \"git\"   │\n",
       "│ 1987 │ \"Christopher\" │ \"other\"       │ \"git\"   │\n",
       "│ 1988 │ \"Jingchun\"    │ \"other\"       │ \"git\"   │\n",
       "│ 1989 │ \"Jeet\"        │ \"first\"       │ \"git\"   │\n",
       "│ 1990 │ \"Mark\"        │ \"last\"        │ \"git\"   │\n",
       "│ 1991 │ \"Matias\"      │ \"first\"       │ \"git\"   │\n",
       "│ 1992 │ \"Tim\"         │ \"last\"        │ \"git\"   │\n",
       "│ 1993 │ \"Thomas\"      │ \"second\"      │ \"git\"   │\n",
       "│ 1994 │ \"Anton\"       │ \"penultimate\" │ \"git\"   │\n",
       "│ 1995 │ \"Harpreet\"    │ \"other\"       │ \"git\"   │"
      ]
     },
     "execution_count": 6,
     "metadata": {},
     "output_type": "execute_result"
    }
   ],
   "source": [
    "bio = importauthors(\"../data/pubs/bio.csv\", \"bio\")\n",
    "comp = importauthors(\"../data/pubs/comp.csv\", \"comp\")\n",
    "git = importauthors(\"../data/pubs/git.csv\", \"git\")"
   ]
  },
  {
   "cell_type": "markdown",
   "metadata": {},
   "source": [
    "Now let's combine all the data - we can subset it again later. \n",
    "\n",
    "We'll also use the `get_gender_prob()` function to add columns for the probability that the author is female (`Pfemale`) and the number of times that name showed up in the genderize.io database, which gives us some sense of how certain we can be in the result (`Count`).\n",
    "\n",
    "Finally, we'll use `pool!`, which makes the represenation of factored data (data that has distinct rather than continuous values) a bit more efficient in memory (and will make queries faster later on)."
   ]
  },
  {
   "cell_type": "code",
   "execution_count": 7,
   "metadata": {
    "collapsed": false
   },
   "outputs": [],
   "source": [
    "alldata = vcat(bio, comp, git)\n",
    "\n",
    "alldata[:Pfemale], alldata[:Count] = getgenderprob(alldata, :Author_Name)\n",
    "\n",
    "pool!(alldata)"
   ]
  },
  {
   "cell_type": "markdown",
   "metadata": {},
   "source": [
    "In julia, we can [subset our dataframes](http://dataframesjl.readthedocs.io/en/latest/subsets.html) pretty easily. For example, we can pull back out rows for our different datasets."
   ]
  },
  {
   "cell_type": "code",
   "execution_count": null,
   "metadata": {
    "collapsed": false
   },
   "outputs": [],
   "source": [
    "biodata = alldata[alldata[:Dataset] .== \"bio\", :]\n",
    "gitdata = alldata[alldata[:Dataset] .== \"git\", :]\n",
    "compdata = alldata[alldata[:Dataset] .== \"comp\", :]"
   ]
  },
  {
   "cell_type": "code",
   "execution_count": 15,
   "metadata": {
    "collapsed": false
   },
   "outputs": [
    {
     "data": {
      "text/html": [
       "<table class=\"data-frame\"><tr><th></th><th>PMID</th><th>Date</th><th>Journal</th><th>Author_Name</th><th>Position</th><th>Dataset</th><th>Pfemale</th><th>Count</th></tr><tr><th>1</th><td>26466425</td><td>2015-10-15</td><td>Southeast Asian J. Trop. Med. Public Health</td><td>Suwit</td><td>first</td><td>bio</td><td>0.0</td><td>2</td></tr><tr><th>2</th><td>26466425</td><td>2015-10-15</td><td>Southeast Asian J. Trop. Med. Public Health</td><td>Prapas</td><td>last</td><td>bio</td><td>0.0</td><td>1</td></tr><tr><th>3</th><td>26466425</td><td>2015-10-15</td><td>Southeast Asian J. Trop. Med. Public Health</td><td>Suvichai</td><td>second</td><td>bio</td><td>NA</td><td>0</td></tr><tr><th>4</th><td>26466425</td><td>2015-10-15</td><td>Southeast Asian J. Trop. Med. Public Health</td><td>Pakpoom</td><td>penultimate</td><td>bio</td><td>0.0</td><td>1</td></tr><tr><th>5</th><td>26466425</td><td>2015-10-15</td><td>Southeast Asian J. Trop. Med. Public Health</td><td>Fred</td><td>other</td><td>bio</td><td>0.020000000000000018</td><td>966</td></tr></table>"
      ],
      "text/plain": [
       "5×8 DataFrames.DataFrame\n",
       "│ Row │ PMID     │ Date       │ Journal                                       │\n",
       "├─────┼──────────┼────────────┼───────────────────────────────────────────────┤\n",
       "│ 1   │ 26466425 │ 2015-10-15 │ \"Southeast Asian J. Trop. Med. Public Health\" │\n",
       "│ 2   │ 26466425 │ 2015-10-15 │ \"Southeast Asian J. Trop. Med. Public Health\" │\n",
       "│ 3   │ 26466425 │ 2015-10-15 │ \"Southeast Asian J. Trop. Med. Public Health\" │\n",
       "│ 4   │ 26466425 │ 2015-10-15 │ \"Southeast Asian J. Trop. Med. Public Health\" │\n",
       "│ 5   │ 26466425 │ 2015-10-15 │ \"Southeast Asian J. Trop. Med. Public Health\" │\n",
       "\n",
       "│ Row │ Author_Name │ Position      │ Dataset │ Pfemale │ Count │\n",
       "├─────┼─────────────┼───────────────┼─────────┼─────────┼───────┤\n",
       "│ 1   │ \"Suwit\"     │ \"first\"       │ \"bio\"   │ 0.0     │ 2     │\n",
       "│ 2   │ \"Prapas\"    │ \"last\"        │ \"bio\"   │ 0.0     │ 1     │\n",
       "│ 3   │ \"Suvichai\"  │ \"second\"      │ \"bio\"   │ NA      │ 0     │\n",
       "│ 4   │ \"Pakpoom\"   │ \"penultimate\" │ \"bio\"   │ 0.0     │ 1     │\n",
       "│ 5   │ \"Fred\"      │ \"other\"       │ \"bio\"   │ 0.02    │ 966   │"
      ]
     },
     "execution_count": 15,
     "metadata": {},
     "output_type": "execute_result"
    }
   ],
   "source": [
    "biodata[1:5, :] # get the first 5 rows, and all columns"
   ]
  },
  {
   "cell_type": "markdown",
   "metadata": {},
   "source": [
    "Let's find out how many times each name shows up in our bio dataset. "
   ]
  },
  {
   "cell_type": "code",
   "execution_count": 20,
   "metadata": {
    "collapsed": false
   },
   "outputs": [
    {
     "data": {
      "text/html": [
       "<table class=\"data-frame\"><tr><th></th><th>Author_Name</th><th>x1</th></tr><tr><th>1</th><td>M</td><td>24033</td></tr><tr><th>2</th><td>J</td><td>20916</td></tr><tr><th>3</th><td>A</td><td>18676</td></tr><tr><th>4</th><td>S</td><td>15745</td></tr><tr><th>5</th><td>C</td><td>12175</td></tr><tr><th>6</th><td>R</td><td>12106</td></tr><tr><th>7</th><td>David</td><td>10955</td></tr><tr><th>8</th><td>D</td><td>10180</td></tr><tr><th>9</th><td>Michael</td><td>10055</td></tr><tr><th>10</th><td>P</td><td>9894</td></tr></table>"
      ],
      "text/plain": [
       "10×2 DataFrames.DataFrame\n",
       "│ Row │ Author_Name │ x1    │\n",
       "├─────┼─────────────┼───────┤\n",
       "│ 1   │ \"M\"         │ 24033 │\n",
       "│ 2   │ \"J\"         │ 20916 │\n",
       "│ 3   │ \"A\"         │ 18676 │\n",
       "│ 4   │ \"S\"         │ 15745 │\n",
       "│ 5   │ \"C\"         │ 12175 │\n",
       "│ 6   │ \"R\"         │ 12106 │\n",
       "│ 7   │ \"David\"     │ 10955 │\n",
       "│ 8   │ \"D\"         │ 10180 │\n",
       "│ 9   │ \"Michael\"   │ 10055 │\n",
       "│ 10  │ \"P\"         │ 9894  │"
      ]
     },
     "execution_count": 20,
     "metadata": {},
     "output_type": "execute_result"
    }
   ],
   "source": [
    "bionames = by(biodata, :Author_Name, nrow)\n",
    "sort!(bionames, cols = [:x1], rev=true)\n",
    "\n",
    "bionames[1:10, :]"
   ]
  },
  {
   "cell_type": "markdown",
   "metadata": {},
   "source": [
    "Hmm... Looks like many of the most frequent names are single letters, which we don't know the gender of. Let's remove the names where we don't know the gender."
   ]
  },
  {
   "cell_type": "code",
   "execution_count": null,
   "metadata": {
    "collapsed": false
   },
   "outputs": [],
   "source": [
    "bionames[:Pfemale], bionames[:Count] = getgenderprob(bionames, :Author_Name)\n",
    "knownbionames = bionames[!isna(bionames[:Pfemale]), :]\n",
    "unknownbionames = bionames[isna(bionames[:Pfemale]), :]"
   ]
  },
  {
   "cell_type": "code",
   "execution_count": 23,
   "metadata": {
    "collapsed": false
   },
   "outputs": [
    {
     "data": {
      "text/html": [
       "<table class=\"data-frame\"><tr><th></th><th>Author_Name</th><th>x1</th><th>Pfemale</th><th>Count</th></tr><tr><th>1</th><td>David</td><td>10955</td><td>0.0</td><td>12597</td></tr><tr><th>2</th><td>Michael</td><td>10055</td><td>0.0</td><td>11160</td></tr><tr><th>3</th><td>John</td><td>7460</td><td>0.010000000000000009</td><td>9931</td></tr><tr><th>4</th><td>Peter</td><td>6025</td><td>0.0</td><td>4373</td></tr><tr><th>5</th><td>Robert</td><td>5813</td><td>0.0</td><td>5245</td></tr><tr><th>6</th><td>Thomas</td><td>5043</td><td>0.0</td><td>3753</td></tr><tr><th>7</th><td>Richard</td><td>4638</td><td>0.0</td><td>4381</td></tr><tr><th>8</th><td>James</td><td>4629</td><td>0.010000000000000009</td><td>6359</td></tr><tr><th>9</th><td>Mark</td><td>4344</td><td>0.0</td><td>6178</td></tr><tr><th>10</th><td>Daniel</td><td>4300</td><td>0.0</td><td>8186</td></tr></table>"
      ],
      "text/plain": [
       "10×4 DataFrames.DataFrame\n",
       "│ Row │ Author_Name │ x1    │ Pfemale │ Count │\n",
       "├─────┼─────────────┼───────┼─────────┼───────┤\n",
       "│ 1   │ \"David\"     │ 10955 │ 0.0     │ 12597 │\n",
       "│ 2   │ \"Michael\"   │ 10055 │ 0.0     │ 11160 │\n",
       "│ 3   │ \"John\"      │ 7460  │ 0.01    │ 9931  │\n",
       "│ 4   │ \"Peter\"     │ 6025  │ 0.0     │ 4373  │\n",
       "│ 5   │ \"Robert\"    │ 5813  │ 0.0     │ 5245  │\n",
       "│ 6   │ \"Thomas\"    │ 5043  │ 0.0     │ 3753  │\n",
       "│ 7   │ \"Richard\"   │ 4638  │ 0.0     │ 4381  │\n",
       "│ 8   │ \"James\"     │ 4629  │ 0.01    │ 6359  │\n",
       "│ 9   │ \"Mark\"      │ 4344  │ 0.0     │ 6178  │\n",
       "│ 10  │ \"Daniel\"    │ 4300  │ 0.0     │ 8186  │"
      ]
     },
     "execution_count": 23,
     "metadata": {},
     "output_type": "execute_result"
    }
   ],
   "source": [
    "sort!(knownbionames, cols = [:x1], rev=true)\n",
    "knownbionames[1:10, :]"
   ]
  }
 ],
 "metadata": {
  "kernelspec": {
   "display_name": "Julia 0.4.5",
   "language": "julia",
   "name": "julia-0.4"
  },
  "language_info": {
   "file_extension": ".jl",
   "mimetype": "application/julia",
   "name": "julia",
   "version": "0.4.5"
  }
 },
 "nbformat": 4,
 "nbformat_minor": 0
}
